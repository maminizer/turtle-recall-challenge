{
 "cells": [
  {
   "cell_type": "code",
   "execution_count": 1,
   "id": "5c49ff1c",
   "metadata": {
    "execution": {
     "iopub.execute_input": "2022-03-17T17:19:07.191721Z",
     "iopub.status.busy": "2022-03-17T17:19:07.190195Z",
     "iopub.status.idle": "2022-03-17T17:19:39.969154Z",
     "shell.execute_reply": "2022-03-17T17:19:39.968399Z",
     "shell.execute_reply.started": "2022-03-17T17:11:48.598432Z"
    },
    "papermill": {
     "duration": 32.811223,
     "end_time": "2022-03-17T17:19:39.969328",
     "exception": false,
     "start_time": "2022-03-17T17:19:07.158105",
     "status": "completed"
    },
    "tags": []
   },
   "outputs": [
    {
     "name": "stdout",
     "output_type": "stream",
     "text": [
      "\u001b[33mWARNING: Running pip as the 'root' user can result in broken permissions and conflicting behaviour with the system package manager. It is recommended to use a virtual environment instead: https://pip.pypa.io/warnings/venv\u001b[0m\r\n",
      "\u001b[33mWARNING: Running pip as the 'root' user can result in broken permissions and conflicting behaviour with the system package manager. It is recommended to use a virtual environment instead: https://pip.pypa.io/warnings/venv\u001b[0m\r\n",
      "Collecting timm\r\n",
      "  Downloading timm-0.5.4-py3-none-any.whl (431 kB)\r\n",
      "     |████████████████████████████████| 431 kB 277 kB/s            \r\n",
      "\u001b[?25hRequirement already satisfied: torchvision in /opt/conda/lib/python3.7/site-packages (from timm) (0.10.1)\r\n",
      "Requirement already satisfied: torch>=1.4 in /opt/conda/lib/python3.7/site-packages (from timm) (1.9.1)\r\n",
      "Requirement already satisfied: typing-extensions in /opt/conda/lib/python3.7/site-packages (from torch>=1.4->timm) (4.1.1)\r\n",
      "Requirement already satisfied: pillow>=5.3.0 in /opt/conda/lib/python3.7/site-packages (from torchvision->timm) (8.2.0)\r\n",
      "Requirement already satisfied: numpy in /opt/conda/lib/python3.7/site-packages (from torchvision->timm) (1.20.3)\r\n",
      "Installing collected packages: timm\r\n",
      "Successfully installed timm-0.5.4\r\n",
      "\u001b[33mWARNING: Running pip as the 'root' user can result in broken permissions and conflicting behaviour with the system package manager. It is recommended to use a virtual environment instead: https://pip.pypa.io/warnings/venv\u001b[0m\r\n"
     ]
    }
   ],
   "source": [
    "!pip install -q --upgrade wandb\n",
    "!pip install -q ttach\n",
    "!pip install  timm"
   ]
  },
  {
   "cell_type": "markdown",
   "id": "305cc38e",
   "metadata": {
    "papermill": {
     "duration": 0.031327,
     "end_time": "2022-03-17T17:19:40.033247",
     "exception": false,
     "start_time": "2022-03-17T17:19:40.001920",
     "status": "completed"
    },
    "tags": []
   },
   "source": [
    "# Data loading"
   ]
  },
  {
   "cell_type": "code",
   "execution_count": 2,
   "id": "7541a105",
   "metadata": {
    "execution": {
     "iopub.execute_input": "2022-03-17T17:19:40.111998Z",
     "iopub.status.busy": "2022-03-17T17:19:40.111335Z",
     "iopub.status.idle": "2022-03-17T17:21:07.282989Z",
     "shell.execute_reply": "2022-03-17T17:21:07.283636Z",
     "shell.execute_reply.started": "2022-03-17T17:12:14.191610Z"
    },
    "papermill": {
     "duration": 87.219229,
     "end_time": "2022-03-17T17:21:07.283830",
     "exception": false,
     "start_time": "2022-03-17T17:19:40.064601",
     "status": "completed"
    },
    "tags": []
   },
   "outputs": [
    {
     "name": "stdout",
     "output_type": "stream",
     "text": [
      "The total number of images is: 13891\n"
     ]
    }
   ],
   "source": [
    "import os\n",
    "\n",
    "SOURCE_URL = 'https://storage.googleapis.com/dm-turtle-recall/images.tar'\n",
    "IMAGE_DIR = './turtle_recall/images'\n",
    "TAR_PATH = os.path.join(IMAGE_DIR, os.path.basename(SOURCE_URL))\n",
    "EXPECTED_IMAGE_COUNT = 13891\n",
    "\n",
    "%sx mkdir --parents \"{IMAGE_DIR}\"\n",
    "if len(os.listdir(IMAGE_DIR)) != EXPECTED_IMAGE_COUNT:\n",
    "    %sx wget --no-check-certificate -O \"{TAR_PATH}\" \"{SOURCE_URL}\"\n",
    "    %sx tar --extract --file=\"{TAR_PATH}\" --directory=\"{IMAGE_DIR}\"\n",
    "    %sx rm \"{TAR_PATH}\"\n",
    "\n",
    "print(f'The total number of images is: {len(os.listdir(IMAGE_DIR))}')"
   ]
  },
  {
   "cell_type": "code",
   "execution_count": 3,
   "id": "0f834f6b",
   "metadata": {
    "execution": {
     "iopub.execute_input": "2022-03-17T17:21:07.355723Z",
     "iopub.status.busy": "2022-03-17T17:21:07.355067Z",
     "iopub.status.idle": "2022-03-17T17:21:09.452340Z",
     "shell.execute_reply": "2022-03-17T17:21:09.451461Z",
     "shell.execute_reply.started": "2022-03-17T17:14:17.183727Z"
    },
    "papermill": {
     "duration": 2.13601,
     "end_time": "2022-03-17T17:21:09.452502",
     "exception": false,
     "start_time": "2022-03-17T17:21:07.316492",
     "status": "completed"
    },
    "tags": []
   },
   "outputs": [],
   "source": [
    "import pandas as pd\n",
    "import requests\n",
    "import io\n",
    "import urllib.parse\n",
    "\n",
    "BASE_URL = 'https://storage.googleapis.com/dm-turtle-recall/'\n",
    "\n",
    "\n",
    "def read_csv_from_web(file_name):\n",
    "    url = urllib.parse.urljoin(BASE_URL, file_name)\n",
    "    content = requests.get(url).content\n",
    "    return pd.read_csv(io.StringIO(content.decode('utf-8')))\n",
    "\n",
    "\n",
    "# Read in csv files.\n",
    "extra = read_csv_from_web(\"extra_images.csv\")\n",
    "extra[\"type\"] = \"extra\"\n",
    "train = read_csv_from_web('train.csv')\n",
    "train[\"type\"] = \"train\"\n",
    "test = read_csv_from_web('test.csv')\n",
    "sample_submission = read_csv_from_web('sample_submission.csv')\n",
    "\n",
    "# Convert image_location strings to lowercase.\n",
    "for df in [train, test]:\n",
    "    df.image_location = df.image_location.apply(lambda x: x.lower())\n",
    "    assert set(df.image_location.unique()) == set(['left', 'right', 'top'])"
   ]
  },
  {
   "cell_type": "code",
   "execution_count": 4,
   "id": "7d790445",
   "metadata": {
    "execution": {
     "iopub.execute_input": "2022-03-17T17:21:09.528994Z",
     "iopub.status.busy": "2022-03-17T17:21:09.526758Z",
     "iopub.status.idle": "2022-03-17T17:21:09.529692Z",
     "shell.execute_reply": "2022-03-17T17:21:09.530120Z",
     "shell.execute_reply.started": "2022-03-17T17:14:18.539119Z"
    },
    "papermill": {
     "duration": 0.046363,
     "end_time": "2022-03-17T17:21:09.530260",
     "exception": false,
     "start_time": "2022-03-17T17:21:09.483897",
     "status": "completed"
    },
    "tags": []
   },
   "outputs": [],
   "source": [
    "def get_image_paths(image_id):\n",
    "    return f\"./turtle_recall/images/{image_id}.JPG\"\n",
    "\n",
    "#train = pd.concat([train, extra])\n",
    "#train = train.reset_index(drop=True)\n",
    "train['directory'] = train[\"image_id\"].map(get_image_paths)\n",
    "#train.loc[(train.type == 'extra'),'turtle_id']='new_turtle'"
   ]
  },
  {
   "cell_type": "code",
   "execution_count": 5,
   "id": "5d81039f",
   "metadata": {
    "execution": {
     "iopub.execute_input": "2022-03-17T17:21:11.908972Z",
     "iopub.status.busy": "2022-03-17T17:21:11.908103Z",
     "iopub.status.idle": "2022-03-17T17:21:11.920110Z",
     "shell.execute_reply": "2022-03-17T17:21:11.920544Z",
     "shell.execute_reply.started": "2022-03-17T17:14:18.546525Z"
    },
    "papermill": {
     "duration": 0.051114,
     "end_time": "2022-03-17T17:21:11.920682",
     "exception": false,
     "start_time": "2022-03-17T17:21:11.869568",
     "status": "completed"
    },
    "tags": []
   },
   "outputs": [
    {
     "data": {
      "text/html": [
       "<div>\n",
       "<style scoped>\n",
       "    .dataframe tbody tr th:only-of-type {\n",
       "        vertical-align: middle;\n",
       "    }\n",
       "\n",
       "    .dataframe tbody tr th {\n",
       "        vertical-align: top;\n",
       "    }\n",
       "\n",
       "    .dataframe thead th {\n",
       "        text-align: right;\n",
       "    }\n",
       "</style>\n",
       "<table border=\"1\" class=\"dataframe\">\n",
       "  <thead>\n",
       "    <tr style=\"text-align: right;\">\n",
       "      <th></th>\n",
       "      <th>image_id</th>\n",
       "      <th>image_location</th>\n",
       "      <th>turtle_id</th>\n",
       "      <th>type</th>\n",
       "      <th>directory</th>\n",
       "    </tr>\n",
       "  </thead>\n",
       "  <tbody>\n",
       "    <tr>\n",
       "      <th>0</th>\n",
       "      <td>ID_2RK4WLN8</td>\n",
       "      <td>top</td>\n",
       "      <td>t_id_VP2NW7aV</td>\n",
       "      <td>train</td>\n",
       "      <td>./turtle_recall/images/ID_2RK4WLN8.JPG</td>\n",
       "    </tr>\n",
       "    <tr>\n",
       "      <th>1</th>\n",
       "      <td>ID_VVW0QXLX</td>\n",
       "      <td>left</td>\n",
       "      <td>t_id_qZ0iZYsC</td>\n",
       "      <td>train</td>\n",
       "      <td>./turtle_recall/images/ID_VVW0QXLX.JPG</td>\n",
       "    </tr>\n",
       "    <tr>\n",
       "      <th>2</th>\n",
       "      <td>ID_RVATH2HZ</td>\n",
       "      <td>right</td>\n",
       "      <td>t_id_3b65X5Lw</td>\n",
       "      <td>train</td>\n",
       "      <td>./turtle_recall/images/ID_RVATH2HZ.JPG</td>\n",
       "    </tr>\n",
       "    <tr>\n",
       "      <th>3</th>\n",
       "      <td>ID_2GB90GPS</td>\n",
       "      <td>left</td>\n",
       "      <td>t_id_YjXYTCGC</td>\n",
       "      <td>train</td>\n",
       "      <td>./turtle_recall/images/ID_2GB90GPS.JPG</td>\n",
       "    </tr>\n",
       "    <tr>\n",
       "      <th>4</th>\n",
       "      <td>ID_LM6S0B1M</td>\n",
       "      <td>top</td>\n",
       "      <td>t_id_d6aYXtor</td>\n",
       "      <td>train</td>\n",
       "      <td>./turtle_recall/images/ID_LM6S0B1M.JPG</td>\n",
       "    </tr>\n",
       "  </tbody>\n",
       "</table>\n",
       "</div>"
      ],
      "text/plain": [
       "      image_id image_location      turtle_id   type  \\\n",
       "0  ID_2RK4WLN8            top  t_id_VP2NW7aV  train   \n",
       "1  ID_VVW0QXLX           left  t_id_qZ0iZYsC  train   \n",
       "2  ID_RVATH2HZ          right  t_id_3b65X5Lw  train   \n",
       "3  ID_2GB90GPS           left  t_id_YjXYTCGC  train   \n",
       "4  ID_LM6S0B1M            top  t_id_d6aYXtor  train   \n",
       "\n",
       "                                directory  \n",
       "0  ./turtle_recall/images/ID_2RK4WLN8.JPG  \n",
       "1  ./turtle_recall/images/ID_VVW0QXLX.JPG  \n",
       "2  ./turtle_recall/images/ID_RVATH2HZ.JPG  \n",
       "3  ./turtle_recall/images/ID_2GB90GPS.JPG  \n",
       "4  ./turtle_recall/images/ID_LM6S0B1M.JPG  "
      ]
     },
     "execution_count": 5,
     "metadata": {},
     "output_type": "execute_result"
    }
   ],
   "source": [
    "train.head()"
   ]
  },
  {
   "cell_type": "code",
   "execution_count": 6,
   "id": "ebf0dbd3",
   "metadata": {
    "execution": {
     "iopub.execute_input": "2022-03-17T17:21:11.992732Z",
     "iopub.status.busy": "2022-03-17T17:21:11.992074Z",
     "iopub.status.idle": "2022-03-17T17:21:11.994862Z",
     "shell.execute_reply": "2022-03-17T17:21:11.995342Z",
     "shell.execute_reply.started": "2022-03-17T17:14:18.568828Z"
    },
    "papermill": {
     "duration": 0.042898,
     "end_time": "2022-03-17T17:21:11.995497",
     "exception": false,
     "start_time": "2022-03-17T17:21:11.952599",
     "status": "completed"
    },
    "tags": []
   },
   "outputs": [
    {
     "data": {
      "text/plain": [
       "t_id_J5dngbNA     8\n",
       "t_id_OqU1NWEA     9\n",
       "t_id_p77GDtzg     9\n",
       "t_id_Dv4O8bOM    10\n",
       "t_id_Lhp87PBX    10\n",
       "                 ..\n",
       "t_id_dVQ4x3wz    47\n",
       "t_id_Kf73l69A    57\n",
       "t_id_VP2NW7aV    58\n",
       "t_id_hRzOoJ2t    68\n",
       "t_id_ROFhVsy2    77\n",
       "Name: turtle_id, Length: 100, dtype: int64"
      ]
     },
     "execution_count": 6,
     "metadata": {},
     "output_type": "execute_result"
    }
   ],
   "source": [
    "train[\"turtle_id\"].value_counts().sort_values()"
   ]
  },
  {
   "cell_type": "markdown",
   "id": "2e2b95a5",
   "metadata": {
    "papermill": {
     "duration": 0.032204,
     "end_time": "2022-03-17T17:21:12.059651",
     "exception": false,
     "start_time": "2022-03-17T17:21:12.027447",
     "status": "completed"
    },
    "tags": []
   },
   "source": [
    "# Directory settings"
   ]
  },
  {
   "cell_type": "code",
   "execution_count": 7,
   "id": "f3c5309f",
   "metadata": {
    "execution": {
     "iopub.execute_input": "2022-03-17T17:21:12.128712Z",
     "iopub.status.busy": "2022-03-17T17:21:12.127898Z",
     "iopub.status.idle": "2022-03-17T17:21:12.130354Z",
     "shell.execute_reply": "2022-03-17T17:21:12.129947Z",
     "shell.execute_reply.started": "2022-03-17T17:14:18.581336Z"
    },
    "papermill": {
     "duration": 0.038917,
     "end_time": "2022-03-17T17:21:12.130494",
     "exception": false,
     "start_time": "2022-03-17T17:21:12.091577",
     "status": "completed"
    },
    "tags": []
   },
   "outputs": [],
   "source": [
    "# ====================================================\n",
    "# Directory settings\n",
    "# ====================================================\n",
    "import os\n",
    "\n",
    "OUTPUT_DIR = './'\n",
    "if not os.path.exists(OUTPUT_DIR):\n",
    "    os.makedirs(OUTPUT_DIR)"
   ]
  },
  {
   "cell_type": "markdown",
   "id": "1ee3040e",
   "metadata": {
    "papermill": {
     "duration": 0.0316,
     "end_time": "2022-03-17T17:21:12.194101",
     "exception": false,
     "start_time": "2022-03-17T17:21:12.162501",
     "status": "completed"
    },
    "tags": []
   },
   "source": [
    "# Label encoder"
   ]
  },
  {
   "cell_type": "code",
   "execution_count": 8,
   "id": "cf569b04",
   "metadata": {
    "execution": {
     "iopub.execute_input": "2022-03-17T17:21:12.262543Z",
     "iopub.status.busy": "2022-03-17T17:21:12.261775Z",
     "iopub.status.idle": "2022-03-17T17:21:13.130581Z",
     "shell.execute_reply": "2022-03-17T17:21:13.131067Z",
     "shell.execute_reply.started": "2022-03-17T17:14:18.588081Z"
    },
    "papermill": {
     "duration": 0.905045,
     "end_time": "2022-03-17T17:21:13.131235",
     "exception": false,
     "start_time": "2022-03-17T17:21:12.226190",
     "status": "completed"
    },
    "tags": []
   },
   "outputs": [],
   "source": [
    "from sklearn import preprocessing\n",
    "\n",
    "le = preprocessing.LabelEncoder()\n",
    "le.fit(train['turtle_id'])\n",
    "train['turtle_id_enc'] = le.transform(train['turtle_id'])\n",
    "pd.to_pickle(le, \"./label_encoder.pkl\")"
   ]
  },
  {
   "cell_type": "markdown",
   "id": "f650cd90",
   "metadata": {
    "papermill": {
     "duration": 0.032173,
     "end_time": "2022-03-17T17:21:13.195814",
     "exception": false,
     "start_time": "2022-03-17T17:21:13.163641",
     "status": "completed"
    },
    "tags": []
   },
   "source": [
    "# Configuration"
   ]
  },
  {
   "cell_type": "code",
   "execution_count": 9,
   "id": "3489aac2",
   "metadata": {
    "execution": {
     "iopub.execute_input": "2022-03-17T17:21:13.271163Z",
     "iopub.status.busy": "2022-03-17T17:21:13.270247Z",
     "iopub.status.idle": "2022-03-17T17:21:13.272044Z",
     "shell.execute_reply": "2022-03-17T17:21:13.272462Z",
     "shell.execute_reply.started": "2022-03-17T17:14:19.511159Z"
    },
    "papermill": {
     "duration": 0.044829,
     "end_time": "2022-03-17T17:21:13.272599",
     "exception": false,
     "start_time": "2022-03-17T17:21:13.227770",
     "status": "completed"
    },
    "tags": []
   },
   "outputs": [],
   "source": [
    "class CFG:\n",
    "    apex=False\n",
    "    debug=False\n",
    "    print_freq=100\n",
    "    size=150\n",
    "    num_workers=8\n",
    "    scheduler='CosineAnnealingWarmRestarts' # ['ReduceLROnPlateau', 'CosineAnnealingLR', 'CosineAnnealingWarmRestarts','OneCycleLR']\n",
    "    epochs=20\n",
    "    # CosineAnnealingLR params\n",
    "    cosanneal_params={\n",
    "        'T_max':4,\n",
    "        'eta_min':1e-5,\n",
    "        'last_epoch':-1\n",
    "    }\n",
    "    #ReduceLROnPlateau params\n",
    "    reduce_params={\n",
    "        'mode':'min',\n",
    "        'factor':0.2,\n",
    "        'patience':4,\n",
    "        'eps':1e-6,\n",
    "        'verbose':True\n",
    "    }\n",
    "    # CosineAnnealingWarmRestarts params\n",
    "    cosanneal_res_params={\n",
    "        'T_0':2,\n",
    "        'eta_min':1e-5,\n",
    "        'T_mult':1,\n",
    "        'last_epoch':-1\n",
    "    }\n",
    "    onecycle_params={\n",
    "        'pct_start':0.1,\n",
    "        'div_factor':1e2,\n",
    "        'max_lr':1e-3\n",
    "    }\n",
    "    batch_size=128\n",
    "    lr=1e-3\n",
    "    weight_decay=1e-5\n",
    "    gradient_accumulation_steps=1\n",
    "    max_grad_norm=1000\n",
    "    target_size=train[\"turtle_id_enc\"].shape[0]\n",
    "    nfolds=5\n",
    "    trn_folds=[0, 1, 2, 3, 4]\n",
    "    model_name='resnet50d'     #'vit_base_patch32_224_in21k' 'tf_efficientnetv2_b0' 'resnext50_32x4d'\n",
    "    train=True\n",
    "    preds_score_labels=[\"top1_score\", \"top2_score\", \"top3_score\", \"top4_score\", \"top5_score\"]\n",
    "    preds_loss_labels=[\"top1_loss\", \"top2_loss\", \"top3_loss\", \"top4_loss\", \"top5_loss\"]\n",
    "    early_stop=True\n",
    "    target_col=\"turtle_id_enc\"\n",
    "    margin=50\n",
    "    scale=0.3\n",
    "    fc_dim=512\n",
    "    early_stopping_steps=5\n",
    "    grad_cam=False\n",
    "    seed=42\n",
    "    \n",
    "if CFG.debug:\n",
    "    CFG.epochs=1\n",
    "    train=train.sample(n=1000, random_state=CFG.seed).reset_index(drop=True)"
   ]
  },
  {
   "cell_type": "markdown",
   "id": "ebd32045",
   "metadata": {
    "papermill": {
     "duration": 0.032144,
     "end_time": "2022-03-17T17:21:13.337509",
     "exception": false,
     "start_time": "2022-03-17T17:21:13.305365",
     "status": "completed"
    },
    "tags": []
   },
   "source": [
    "# Library"
   ]
  },
  {
   "cell_type": "code",
   "execution_count": 10,
   "id": "7589714f",
   "metadata": {
    "execution": {
     "iopub.execute_input": "2022-03-17T17:21:13.411005Z",
     "iopub.status.busy": "2022-03-17T17:21:13.410436Z",
     "iopub.status.idle": "2022-03-17T17:21:17.023883Z",
     "shell.execute_reply": "2022-03-17T17:21:17.022959Z",
     "shell.execute_reply.started": "2022-03-17T17:14:19.527659Z"
    },
    "papermill": {
     "duration": 3.654643,
     "end_time": "2022-03-17T17:21:17.024035",
     "exception": false,
     "start_time": "2022-03-17T17:21:13.369392",
     "status": "completed"
    },
    "tags": []
   },
   "outputs": [],
   "source": [
    "# ====================================================\n",
    "# Library\n",
    "# ====================================================\n",
    "import sys\n",
    "import os\n",
    "import math\n",
    "import time\n",
    "import random\n",
    "import shutil\n",
    "from pathlib import Path\n",
    "from contextlib import contextmanager\n",
    "from collections import defaultdict, Counter\n",
    "\n",
    "import scipy as sp\n",
    "import numpy as np\n",
    "import pandas as pd\n",
    "import matplotlib.pyplot as plt\n",
    "\n",
    "from sklearn import preprocessing\n",
    "from sklearn.metrics import roc_auc_score, roc_curve, f1_score, accuracy_score\n",
    "from sklearn.model_selection import StratifiedKFold, GroupKFold, KFold\n",
    "\n",
    "from tqdm.auto import tqdm\n",
    "from functools import partial\n",
    "\n",
    "import cv2\n",
    "from PIL import Image\n",
    "from PIL import ImageFile\n",
    "# sometimes, you will have images without an ending bit\n",
    "# this takes care of those kind of (corrupt) images\n",
    "ImageFile.LOAD_TRUNCATED_IMAGES = True\n",
    "\n",
    "import torch\n",
    "import torch.nn as nn\n",
    "import torch.nn.functional as F\n",
    "from torch.optim import Adam, SGD\n",
    "from torch.optim.optimizer import Optimizer\n",
    "import torchvision.models as models\n",
    "from torch.nn.parameter import Parameter\n",
    "from torch.utils.data import DataLoader, Dataset\n",
    "from torch.optim.lr_scheduler import CosineAnnealingWarmRestarts, CosineAnnealingLR, ReduceLROnPlateau\n",
    "\n",
    "\n",
    "import albumentations as A\n",
    "from albumentations.pytorch import ToTensorV2\n",
    "from albumentations import ImageOnlyTransform\n",
    "\n",
    "\n",
    "import timm\n",
    "\n",
    "from torch.cuda.amp import autocast, GradScaler\n",
    "\n",
    "import warnings\n",
    "warnings.filterwarnings('ignore')\n",
    "\n",
    "device = torch.device('cuda' if torch.cuda.is_available() else 'cpu')"
   ]
  },
  {
   "cell_type": "markdown",
   "id": "fa742e3b",
   "metadata": {
    "papermill": {
     "duration": 0.031832,
     "end_time": "2022-03-17T17:21:17.088693",
     "exception": false,
     "start_time": "2022-03-17T17:21:17.056861",
     "status": "completed"
    },
    "tags": []
   },
   "source": [
    "# W&B"
   ]
  },
  {
   "cell_type": "code",
   "execution_count": 11,
   "id": "116c251c",
   "metadata": {
    "execution": {
     "iopub.execute_input": "2022-03-17T17:21:17.168574Z",
     "iopub.status.busy": "2022-03-17T17:21:17.167948Z",
     "iopub.status.idle": "2022-03-17T17:21:27.748996Z",
     "shell.execute_reply": "2022-03-17T17:21:27.749457Z",
     "shell.execute_reply.started": "2022-03-17T17:14:24.484451Z"
    },
    "papermill": {
     "duration": 10.628381,
     "end_time": "2022-03-17T17:21:27.749632",
     "exception": false,
     "start_time": "2022-03-17T17:21:17.121251",
     "status": "completed"
    },
    "tags": []
   },
   "outputs": [
    {
     "name": "stderr",
     "output_type": "stream",
     "text": [
      "\u001b[34m\u001b[1mwandb\u001b[0m: W&B API key is configured (use `wandb login --relogin` to force relogin)\n",
      "\u001b[34m\u001b[1mwandb\u001b[0m: \u001b[33mWARNING\u001b[0m If you're specifying your api key in code, ensure this code is not shared publicly.\n",
      "\u001b[34m\u001b[1mwandb\u001b[0m: \u001b[33mWARNING\u001b[0m Consider setting the WANDB_API_KEY environment variable, or running `wandb login` from the command line.\n",
      "\u001b[34m\u001b[1mwandb\u001b[0m: Appending key for api.wandb.ai to your netrc file: /root/.netrc\n",
      "\u001b[34m\u001b[1mwandb\u001b[0m: Currently logged in as: \u001b[33mdjoe\u001b[0m (use `wandb login --relogin` to force relogin)\n"
     ]
    },
    {
     "data": {
      "text/html": [
       "Tracking run with wandb version 0.12.11"
      ],
      "text/plain": [
       "<IPython.core.display.HTML object>"
      ]
     },
     "metadata": {},
     "output_type": "display_data"
    },
    {
     "data": {
      "text/html": [
       "Run data is saved locally in <code>/kaggle/working/wandb/run-20220317_172120-xrazeace</code>"
      ],
      "text/plain": [
       "<IPython.core.display.HTML object>"
      ]
     },
     "metadata": {},
     "output_type": "display_data"
    },
    {
     "data": {
      "text/html": [
       "Syncing run <strong><a href=\"https://wandb.ai/djoe/Herbarium%202022/runs/xrazeace\" target=\"_blank\">resnext50_32x4d</a></strong> to <a href=\"https://wandb.ai/djoe/Herbarium%202022\" target=\"_blank\">Weights & Biases</a> (<a href=\"https://wandb.me/run\" target=\"_blank\">docs</a>)<br/>"
      ],
      "text/plain": [
       "<IPython.core.display.HTML object>"
      ]
     },
     "metadata": {},
     "output_type": "display_data"
    }
   ],
   "source": [
    "from kaggle_secrets import UserSecretsClient\n",
    "user_secrets = UserSecretsClient()\n",
    "wandb_api = user_secrets.get_secret(\"wandb_key\")\n",
    "\n",
    "import wandb\n",
    "wandb.login(key=wandb_api)\n",
    "\n",
    "def class2dict(f):\n",
    "    return dict((name, getattr(f, name)) for name in dir(f) if not name.startswith('__'))\n",
    "\n",
    "run = wandb.init(project=\"Herbarium 2022\", \n",
    "                 name=\"resnext50_32x4d\",\n",
    "                 config=class2dict(CFG),\n",
    "                 group=CFG.model_name,\n",
    "                 job_type=\"train\")"
   ]
  },
  {
   "cell_type": "markdown",
   "id": "7789dd8a",
   "metadata": {
    "papermill": {
     "duration": 0.038028,
     "end_time": "2022-03-17T17:21:27.828079",
     "exception": false,
     "start_time": "2022-03-17T17:21:27.790051",
     "status": "completed"
    },
    "tags": []
   },
   "source": [
    "# Utils"
   ]
  },
  {
   "cell_type": "code",
   "execution_count": 12,
   "id": "824b9675",
   "metadata": {
    "execution": {
     "iopub.execute_input": "2022-03-17T17:21:27.910335Z",
     "iopub.status.busy": "2022-03-17T17:21:27.908160Z",
     "iopub.status.idle": "2022-03-17T17:21:27.916825Z",
     "shell.execute_reply": "2022-03-17T17:21:27.916226Z",
     "shell.execute_reply.started": "2022-03-17T17:14:33.871584Z"
    },
    "papermill": {
     "duration": 0.053597,
     "end_time": "2022-03-17T17:21:27.916962",
     "exception": false,
     "start_time": "2022-03-17T17:21:27.863365",
     "status": "completed"
    },
    "tags": []
   },
   "outputs": [],
   "source": [
    "# ====================================================\n",
    "# Utils\n",
    "# ====================================================\n",
    "#def apk(actual, predicted):\n",
    "#     \"\"\"Computes the average precision at k.\n",
    "#\n",
    "#     Args:\n",
    "#     actual: The turtle ID to be predicted.\n",
    "#     predicted : A list of predicted turtle IDs (order does matter).\n",
    "#     k : The maximum number of predicted elements.\n",
    "#\n",
    "#    Returns:\n",
    "#      The average precision at k.\n",
    "#    \"\"\"\n",
    "#    score = 0.0\n",
    "#    num_hits = 0.0\n",
    "#\n",
    "#    for i, p in enumerate(predicted):\n",
    "#        if p == actual and p not in predicted[:i]:\n",
    "#            num_hits += 1.0\n",
    "#            score += num_hits / (i + 1.0)\n",
    "#\n",
    "#    return score\n",
    "#\n",
    "#\n",
    "#def mapk(actual, predicted):\n",
    "#  \"\"\" Computes the mean average precision at k.\n",
    "#\n",
    "#    The turtle ID at actual[i] will be used to score predicted[i][:k] so order\n",
    "#    matters throughout!\n",
    "#\n",
    "#    actual: A list of the true turtle IDs to score against.\n",
    "#    predicted: A list of lists of predicted turtle IDs.\n",
    "#    k: The size of the window to score within.\n",
    "#\n",
    "#    Returns:\n",
    "#      The mean average precision at k.\n",
    "#  \"\"\"\n",
    "#  return np.mean([apk(a, p) for a, p in zip(actual, predicted)])\n",
    "\n",
    "def init_logger(log_file=OUTPUT_DIR+'train.log'):\n",
    "    from logging import getLogger, INFO, FileHandler,  Formatter,  StreamHandler\n",
    "    logger = getLogger(__name__)\n",
    "    logger.setLevel(INFO)\n",
    "    handler1 = StreamHandler()\n",
    "    handler1.setFormatter(Formatter(\"%(message)s\"))\n",
    "    handler2 = FileHandler(filename=log_file)\n",
    "    handler2.setFormatter(Formatter(\"%(message)s\"))\n",
    "    logger.addHandler(handler1)\n",
    "    logger.addHandler(handler2)\n",
    "    return logger\n",
    "\n",
    "LOGGER = init_logger()\n",
    "\n",
    "\n",
    "def seed_torch(seed=42):\n",
    "    random.seed(seed)\n",
    "    os.environ['PYTHONHASHSEED'] = str(seed)\n",
    "    np.random.seed(seed)\n",
    "    torch.manual_seed(seed)\n",
    "    torch.cuda.manual_seed(seed)\n",
    "    torch.backends.cudnn.deterministic = True\n",
    "\n",
    "seed_torch(seed=CFG.seed)"
   ]
  },
  {
   "cell_type": "markdown",
   "id": "e2fcca6a",
   "metadata": {
    "papermill": {
     "duration": 0.059532,
     "end_time": "2022-03-17T17:21:28.020079",
     "exception": false,
     "start_time": "2022-03-17T17:21:27.960547",
     "status": "completed"
    },
    "tags": []
   },
   "source": [
    "# CV schem"
   ]
  },
  {
   "cell_type": "code",
   "execution_count": 13,
   "id": "b6f737a2",
   "metadata": {
    "execution": {
     "iopub.execute_input": "2022-03-17T17:21:28.136484Z",
     "iopub.status.busy": "2022-03-17T17:21:28.135466Z",
     "iopub.status.idle": "2022-03-17T17:21:28.156443Z",
     "shell.execute_reply": "2022-03-17T17:21:28.157053Z",
     "shell.execute_reply.started": "2022-03-17T17:14:33.889970Z"
    },
    "papermill": {
     "duration": 0.075413,
     "end_time": "2022-03-17T17:21:28.157222",
     "exception": false,
     "start_time": "2022-03-17T17:21:28.081809",
     "status": "completed"
    },
    "tags": []
   },
   "outputs": [
    {
     "name": "stdout",
     "output_type": "stream",
     "text": [
      "CPU times: user 9 ms, sys: 759 µs, total: 9.76 ms\n",
      "Wall time: 13.1 ms\n"
     ]
    }
   ],
   "source": [
    "%%time\n",
    "skf = StratifiedKFold(n_splits=CFG.nfolds, shuffle=True, random_state=CFG.seed)\n",
    "for fold, (trn_idx, vld_idx) in enumerate(skf.split(train, train[CFG.target_col])):\n",
    "    train.loc[vld_idx, \"folds\"] = int(fold)\n",
    "train[\"folds\"] = train[\"folds\"].astype(int)"
   ]
  },
  {
   "cell_type": "markdown",
   "id": "b7165b3a",
   "metadata": {
    "papermill": {
     "duration": 0.038121,
     "end_time": "2022-03-17T17:21:28.239638",
     "exception": false,
     "start_time": "2022-03-17T17:21:28.201517",
     "status": "completed"
    },
    "tags": []
   },
   "source": [
    "# Dataset"
   ]
  },
  {
   "cell_type": "code",
   "execution_count": 14,
   "id": "0186bf02",
   "metadata": {
    "execution": {
     "iopub.execute_input": "2022-03-17T17:21:28.327504Z",
     "iopub.status.busy": "2022-03-17T17:21:28.326528Z",
     "iopub.status.idle": "2022-03-17T17:21:28.328763Z",
     "shell.execute_reply": "2022-03-17T17:21:28.329217Z",
     "shell.execute_reply.started": "2022-03-17T17:14:33.917148Z"
    },
    "papermill": {
     "duration": 0.051122,
     "end_time": "2022-03-17T17:21:28.329364",
     "exception": false,
     "start_time": "2022-03-17T17:21:28.278242",
     "status": "completed"
    },
    "tags": []
   },
   "outputs": [],
   "source": [
    "# ====================================================\n",
    "# Dataset\n",
    "# ====================================================\n",
    "class TrainDataset(Dataset):\n",
    "    def __init__(self, df, transform=None):\n",
    "        self.df = df\n",
    "        self.file_names = df['directory'].values\n",
    "        self.labels = df[CFG.target_col].values\n",
    "        self.transform = transform\n",
    "        \n",
    "    def __len__(self):\n",
    "        return len(self.df)\n",
    "\n",
    "    def __getitem__(self, idx):\n",
    "        file_path = self.file_names[idx]\n",
    "        try:\n",
    "            image = cv2.imread(file_path)\n",
    "            image = cv2.cvtColor(image, cv2.COLOR_BGR2RGB)\n",
    "        except:\n",
    "            image = Image.open(file_path)\n",
    "            image = image.convert(\"RGB\")\n",
    "            image = np.array(image)\n",
    "        if self.transform:\n",
    "            image = self.transform(image=image)['image']\n",
    "        label = torch.tensor(self.labels[idx]).float()\n",
    "        return image, label\n"
   ]
  },
  {
   "cell_type": "code",
   "execution_count": 15,
   "id": "e61d02da",
   "metadata": {
    "execution": {
     "iopub.execute_input": "2022-03-17T17:21:28.420348Z",
     "iopub.status.busy": "2022-03-17T17:21:28.419726Z",
     "iopub.status.idle": "2022-03-17T17:21:28.423372Z",
     "shell.execute_reply": "2022-03-17T17:21:28.423810Z",
     "shell.execute_reply.started": "2022-03-17T17:14:33.930392Z"
    },
    "papermill": {
     "duration": 0.054298,
     "end_time": "2022-03-17T17:21:28.423945",
     "exception": false,
     "start_time": "2022-03-17T17:21:28.369647",
     "status": "completed"
    },
    "tags": []
   },
   "outputs": [],
   "source": [
    "# ====================================================\n",
    "# Transforms\n",
    "# ====================================================\n",
    "def get_transforms(*, data):\n",
    "    \n",
    "    if data == 'train':\n",
    "        return A.Compose(\n",
    "        [\n",
    "           A.Resize(CFG.size, CFG.size),\n",
    "           A.Normalize(\n",
    "                mean=[0.485, 0.456, 0.406],\n",
    "                std=[0.229, 0.224, 0.225],\n",
    "            ),\n",
    "            A.Flip(p=0.05),\n",
    "            \n",
    "            A.Cutout(p=0.05),\n",
    "            A.HorizontalFlip(p=0.05),\n",
    "            A.VerticalFlip(p=0.05),\n",
    "            A.Rotate(limit=180, p=0.05),\n",
    "            A.ShiftScaleRotate(\n",
    "                shift_limit = 0.1, scale_limit=0.1, rotate_limit=45, p=0.05\n",
    "            ),\n",
    "            A.HueSaturationValue(\n",
    "                hue_shift_limit=0.2, sat_shift_limit=0.4,\n",
    "                val_shift_limit=0.2, p=0.05\n",
    "            ),\n",
    "            A.RandomBrightnessContrast(\n",
    "                brightness_limit=(-0.1, 0.1),\n",
    "                contrast_limit=(-0.1, 0.1), p=0.05\n",
    "            ),\n",
    "            ToTensorV2(p=1.0),\n",
    "        ]\n",
    "    )\n",
    "\n",
    "    elif data == 'valid':\n",
    "        return A.Compose([\n",
    "            A.Resize(CFG.size, CFG.size),\n",
    "            A.Normalize(\n",
    "                mean=[0.485, 0.456, 0.406],\n",
    "                std=[0.229, 0.224, 0.225],\n",
    "            ),\n",
    "            ToTensorV2(),\n",
    "        ])"
   ]
  },
  {
   "cell_type": "code",
   "execution_count": 16,
   "id": "e38a18ab",
   "metadata": {
    "execution": {
     "iopub.execute_input": "2022-03-17T17:21:28.510689Z",
     "iopub.status.busy": "2022-03-17T17:21:28.509934Z",
     "iopub.status.idle": "2022-03-17T17:21:30.051001Z",
     "shell.execute_reply": "2022-03-17T17:21:30.052264Z",
     "shell.execute_reply.started": "2022-03-17T17:14:33.946781Z"
    },
    "papermill": {
     "duration": 1.588896,
     "end_time": "2022-03-17T17:21:30.052561",
     "exception": false,
     "start_time": "2022-03-17T17:21:28.463665",
     "status": "completed"
    },
    "tags": []
   },
   "outputs": [
    {
     "data": {
      "image/png": "[encoded data removed]",
      "text/plain": [
       "<Figure size 288x288 with 1 Axes>"
      ]
     },
     "metadata": {
      "needs_background": "light"
     },
     "output_type": "display_data"
    },
    {
     "data": {
      "image/png": "[encoded data removed]",
      "text/plain": [
       "<Figure size 288x288 with 1 Axes>"
      ]
     },
     "metadata": {
      "needs_background": "light"
     },
     "output_type": "display_data"
    },
    {
     "data": {
      "image/png": "[encoded data removed]",
      "text/plain": [
       "<Figure size 288x288 with 1 Axes>"
      ]
     },
     "metadata": {
      "needs_background": "light"
     },
     "output_type": "display_data"
    },
    {
     "data": {
      "image/png": "[encoded data removed]",
      "text/plain": [
       "<Figure size 288x288 with 1 Axes>"
      ]
     },
     "metadata": {
      "needs_background": "light"
     },
     "output_type": "display_data"
    },
    {
     "data": {
      "image/png": "[encoded data removed]",
      "text/plain": [
       "<Figure size 288x288 with 1 Axes>"
      ]
     },
     "metadata": {
      "needs_background": "light"
     },
     "output_type": "display_data"
    }
   ],
   "source": [
    "train_dataset = TrainDataset(train, transform=get_transforms(data='train'))\n",
    "\n",
    "for i in range(5):\n",
    "    plt.figure(figsize=(4, 4))\n",
    "    image, label = train_dataset[i]\n",
    "    plt.imshow(image[0])\n",
    "    plt.title(f'label: {label}')\n",
    "    plt.show() "
   ]
  },
  {
   "cell_type": "markdown",
   "id": "08846ecb",
   "metadata": {
    "execution": {
     "iopub.execute_input": "2022-03-17T15:15:41.448968Z",
     "iopub.status.busy": "2022-03-17T15:15:41.448185Z",
     "iopub.status.idle": "2022-03-17T15:15:41.456697Z",
     "shell.execute_reply": "2022-03-17T15:15:41.455654Z",
     "shell.execute_reply.started": "2022-03-17T15:15:41.448928Z"
    },
    "papermill": {
     "duration": 0.117382,
     "end_time": "2022-03-17T17:21:30.282129",
     "exception": false,
     "start_time": "2022-03-17T17:21:30.164747",
     "status": "completed"
    },
    "tags": []
   },
   "source": [
    "# models"
   ]
  },
  {
   "cell_type": "code",
   "execution_count": 17,
   "id": "dd0604fb",
   "metadata": {
    "execution": {
     "iopub.execute_input": "2022-03-17T17:21:30.537589Z",
     "iopub.status.busy": "2022-03-17T17:21:30.535184Z",
     "iopub.status.idle": "2022-03-17T17:21:30.552243Z",
     "shell.execute_reply": "2022-03-17T17:21:30.553009Z",
     "shell.execute_reply.started": "2022-03-17T17:14:35.209213Z"
    },
    "papermill": {
     "duration": 0.148858,
     "end_time": "2022-03-17T17:21:30.553236",
     "exception": false,
     "start_time": "2022-03-17T17:21:30.404378",
     "status": "completed"
    },
    "tags": []
   },
   "outputs": [],
   "source": [
    "class ArcMarginProduct(nn.Module):\n",
    "    def __init__(self, in_features, out_features, scale=30.0, margin=0.50, easy_margin=False, ls_eps=0.0):\n",
    "        super(ArcMarginProduct, self).__init__()\n",
    "        self.in_features = in_features\n",
    "        self.out_features = out_features\n",
    "        self.scale = scale\n",
    "        self.margin = margin\n",
    "        self.ls_eps = ls_eps  # label smoothing\n",
    "        self.weight = nn.Parameter(torch.FloatTensor(out_features, in_features))\n",
    "        nn.init.xavier_uniform_(self.weight)\n",
    "\n",
    "        self.easy_margin = easy_margin\n",
    "        self.cos_m = math.cos(margin)\n",
    "        self.sin_m = math.sin(margin)\n",
    "        self.th = math.cos(math.pi - margin)\n",
    "        self.mm = math.sin(math.pi - margin) * margin\n",
    "\n",
    "    def forward(self, input, label):\n",
    "        # --------------------------- cos(theta) & phi(theta) ---------------------------\n",
    "        cosine = F.linear(F.normalize(input), F.normalize(self.weight))\n",
    "        sine = torch.sqrt(1.0 - torch.pow(cosine, 2))\n",
    "        phi = cosine * self.cos_m - sine * self.sin_m\n",
    "        if self.easy_margin:\n",
    "            phi = torch.where(cosine > 0, phi, cosine)\n",
    "        else:\n",
    "            phi = torch.where(cosine > self.th, phi, cosine - self.mm)\n",
    "        # --------------------------- convert label to one-hot ---------------------------\n",
    "        # one_hot = torch.zeros(cosine.size(), requires_grad=True, device='cuda')\n",
    "        one_hot = torch.zeros(cosine.size(), device='cuda')\n",
    "        one_hot.scatter_(1, label.view(-1, 1).long(), 1)\n",
    "        if self.ls_eps > 0:\n",
    "            one_hot = (1 - self.ls_eps) * one_hot + self.ls_eps / self.out_features\n",
    "        # -------------torch.where(out_i = {x_i if condition_i else y_i) -------------\n",
    "        output = (one_hot * phi) + ((1.0 - one_hot) * cosine)\n",
    "        output *= self.scale\n",
    "\n",
    "        return output"
   ]
  },
  {
   "cell_type": "code",
   "execution_count": 18,
   "id": "40a66886",
   "metadata": {
    "execution": {
     "iopub.execute_input": "2022-03-17T17:21:30.740378Z",
     "iopub.status.busy": "2022-03-17T17:21:30.739358Z",
     "iopub.status.idle": "2022-03-17T17:21:30.748607Z",
     "shell.execute_reply": "2022-03-17T17:21:30.749223Z",
     "shell.execute_reply.started": "2022-03-17T17:14:35.223757Z"
    },
    "papermill": {
     "duration": 0.103833,
     "end_time": "2022-03-17T17:21:30.749439",
     "exception": false,
     "start_time": "2022-03-17T17:21:30.645606",
     "status": "completed"
    },
    "tags": []
   },
   "outputs": [],
   "source": [
    "# ====================================================\n",
    "# MODEL\n",
    "# ====================================================\n",
    "class CustomModel(nn.Module):\n",
    "    def __init__(self, cfg, pretrained=False):\n",
    "        super().__init__()\n",
    "        self.cfg = cfg\n",
    "        self.model = timm.create_model(self.cfg.model_name, pretrained=pretrained, in_chans=3)\n",
    "        \n",
    "        if cfg.model_name == 'tf_efficientnetv2_b0':\n",
    "            self.n_features = self.model.classifier.in_features\n",
    "            self.model.classifier = nn.Linear(self.n_features, self.cfg.fc_dim)\n",
    "        \n",
    "        #if cfg.model_name.split('_')[1] == \"efficientnet\":\n",
    "        #    self.n_features = self.model.classifier.in_features\n",
    "        #    self.model.classifier = nn.Linear(self.n_features, self.cfg.fc_dim)\n",
    "            \n",
    "        if \"resne\" in cfg.model_name:\n",
    "            self.in_features = self.model.fc.in_features\n",
    "            self.model.fc = nn.Linear(self.in_features, self.cfg.fc_dim)\n",
    "            \n",
    "        elif cfg.model_name.split('_')[0] == 'vit':\n",
    "            self.n_features = self.model.head.in_features\n",
    "            self.model.head = nn.Linear(self.n_features, self.cfg.fc_dim)\n",
    "        \n",
    "        self.fc = nn.Linear(self.cfg.fc_dim, self.cfg.target_size)\n",
    "\n",
    "    def forward(self, x):\n",
    "        features = self.model(x)\n",
    "        output = self.fc(features)\n",
    "        return output"
   ]
  },
  {
   "cell_type": "code",
   "execution_count": 19,
   "id": "4889e570",
   "metadata": {
    "execution": {
     "iopub.execute_input": "2022-03-17T17:21:30.914193Z",
     "iopub.status.busy": "2022-03-17T17:21:30.913506Z",
     "iopub.status.idle": "2022-03-17T17:21:30.917802Z",
     "shell.execute_reply": "2022-03-17T17:21:30.918300Z",
     "shell.execute_reply.started": "2022-03-17T17:14:35.240300Z"
    },
    "papermill": {
     "duration": 0.080744,
     "end_time": "2022-03-17T17:21:30.918516",
     "exception": false,
     "start_time": "2022-03-17T17:21:30.837772",
     "status": "completed"
    },
    "tags": []
   },
   "outputs": [],
   "source": [
    "class turtleModel(nn.Module):\n",
    "\n",
    "    def __init__(\n",
    "        self,\n",
    "        n_classes = CFG.target_size,\n",
    "        model_name = CFG.model_name,\n",
    "        fc_dim = CFG.fc_dim,\n",
    "        margin = CFG.margin,\n",
    "        scale = CFG.scale,\n",
    "        use_fc = True,\n",
    "        use_arcface = True,\n",
    "        pretrained = True):\n",
    "\n",
    "\n",
    "        super(turtleModel,self).__init__()\n",
    "        print('Building Model Backbone for {} model'.format(model_name))\n",
    "\n",
    "        self.model = timm.create_model(model_name, pretrained=pretrained)\n",
    "        \n",
    "        if \"resne\" in CFG.model_name:\n",
    "            self.in_features = self.model.fc.in_features\n",
    "            self.model.fc = nn.Identity()\n",
    "            self.model.global_pool = nn.Identity()\n",
    "            \n",
    "\n",
    "        elif 'efficientnet' in model_name:\n",
    "            self.in_features = self.model.classifier.in_features\n",
    "            self.model.classifier = nn.Identity()\n",
    "            self.model.global_pool = nn.Identity()\n",
    "        \n",
    "        elif 'nfnet' in model_name:\n",
    "            self.in_features = self.model.head.fc.in_features\n",
    "            self.model.head.fc = nn.Identity()\n",
    "            self.model.head.global_pool = nn.Identity()\n",
    "\n",
    "        self.pooling =  nn.AdaptiveAvgPool2d(1)\n",
    "\n",
    "        self.use_fc = use_fc\n",
    "        self.use_arcface = use_arcface\n",
    "\n",
    "        if use_fc:\n",
    "            self.dropout = nn.Dropout(p=0.0)\n",
    "            self.fc = nn.Linear(self.in_features, fc_dim)\n",
    "            self.bn = nn.BatchNorm1d(fc_dim)\n",
    "            self._init_params()\n",
    "            final_in_features = fc_dim\n",
    "\n",
    "        self.arcface = ArcMarginProduct(\n",
    "            final_in_features,\n",
    "            n_classes,\n",
    "            scale = scale,\n",
    "            margin = margin,\n",
    "            easy_margin = False,\n",
    "            ls_eps = 0.0\n",
    "        )\n",
    "\n",
    "    def _init_params(self):\n",
    "        nn.init.xavier_normal_(self.fc.weight)\n",
    "        nn.init.constant_(self.fc.bias, 0)\n",
    "        nn.init.constant_(self.bn.weight, 1)\n",
    "        nn.init.constant_(self.bn.bias, 0)\n",
    "\n",
    "    def forward(self, image, label):\n",
    "        feature = self.extract_feat(image)\n",
    "        \n",
    "        if self.use_arcface:\n",
    "            logits = self.arcface(feature, label)\n",
    "            \n",
    "        return logits\n",
    "\n",
    "    def extract_feat(self, x):\n",
    "        batch_size = x.shape[0]\n",
    "        x = self.model(x)\n",
    "        x = self.pooling(x).view(batch_size, -1)\n",
    "\n",
    "        if self.use_fc:\n",
    "            x = self.dropout(x)\n",
    "            x = self.fc(x)\n",
    "            x = self.bn(x)\n",
    "        return x"
   ]
  },
  {
   "cell_type": "markdown",
   "id": "b9b342ba",
   "metadata": {
    "papermill": {
     "duration": 0.068324,
     "end_time": "2022-03-17T17:21:31.065154",
     "exception": false,
     "start_time": "2022-03-17T17:21:30.996830",
     "status": "completed"
    },
    "tags": []
   },
   "source": [
    "# Helper function"
   ]
  },
  {
   "cell_type": "code",
   "execution_count": 20,
   "id": "72f1d913",
   "metadata": {
    "execution": {
     "iopub.execute_input": "2022-03-17T17:21:31.205576Z",
     "iopub.status.busy": "2022-03-17T17:21:31.203134Z",
     "iopub.status.idle": "2022-03-17T17:21:31.209641Z",
     "shell.execute_reply": "2022-03-17T17:21:31.208491Z",
     "shell.execute_reply.started": "2022-03-17T17:14:35.259502Z"
    },
    "papermill": {
     "duration": 0.089784,
     "end_time": "2022-03-17T17:21:31.209914",
     "exception": false,
     "start_time": "2022-03-17T17:21:31.120130",
     "status": "completed"
    },
    "tags": []
   },
   "outputs": [],
   "source": [
    "# ====================================================\n",
    "# Helper functions\n",
    "# ====================================================\n",
    "class AverageMeter(object):\n",
    "    \"\"\"Computes and stores the average and current value\"\"\"\n",
    "    def __init__(self):\n",
    "        self.reset()\n",
    "\n",
    "    def reset(self):\n",
    "        self.val = 0\n",
    "        self.avg = 0\n",
    "        self.sum = 0\n",
    "        self.count = 0\n",
    "\n",
    "    def update(self, val, n=1):\n",
    "        self.val = val\n",
    "        self.sum += val * n\n",
    "        self.count += n\n",
    "        self.avg = self.sum / self.count\n",
    "\n",
    "\n",
    "def asMinutes(s):\n",
    "    m = math.floor(s / 60)\n",
    "    s -= m * 60\n",
    "    return '%dm %ds' % (m, s)\n",
    "\n",
    "\n",
    "def timeSince(since, percent):\n",
    "    now = time.time()\n",
    "    s = now - since\n",
    "    es = s / (percent)\n",
    "    rs = es - s\n",
    "    return '%s (remain %s)' % (asMinutes(s), asMinutes(rs))\n",
    "\n",
    "\n",
    "def train_fn(fold, train_loader, model, criterion, optimizer, epoch, scheduler, device):\n",
    "    if CFG.apex:\n",
    "        scaler = GradScaler()\n",
    "    batch_time = AverageMeter()\n",
    "    data_time = AverageMeter()\n",
    "    losses = AverageMeter()\n",
    "    scores = AverageMeter()\n",
    "    # switch to train mode\n",
    "    model.train()\n",
    "    start = end = time.time()\n",
    "    global_step = 0\n",
    "    for step, (images, labels) in enumerate(train_loader):\n",
    "        # measure data loading time\n",
    "        data_time.update(time.time() - end)\n",
    "        images = images.to(device).float()\n",
    "        labels = labels.to(device).long()\n",
    "        batch_size = labels.size(0)\n",
    "        if CFG.apex:\n",
    "            with autocast():\n",
    "                y_preds = model(images)\n",
    "                loss = criterion(y_preds, labels)\n",
    "        else:\n",
    "            y_preds = model(images, labels)\n",
    "            loss = criterion(y_preds, labels)\n",
    "        # record loss\n",
    "        losses.update(loss.item(), batch_size)\n",
    "        if CFG.gradient_accumulation_steps > 1:\n",
    "            loss = loss / CFG.gradient_accumulation_steps\n",
    "        if CFG.apex:\n",
    "            scaler.scale(loss).backward()\n",
    "        else:\n",
    "            loss.backward()\n",
    "        grad_norm = torch.nn.utils.clip_grad_norm_(model.parameters(), CFG.max_grad_norm)\n",
    "        if (step + 1) % CFG.gradient_accumulation_steps == 0:\n",
    "            if CFG.apex:\n",
    "                scaler.step(optimizer)\n",
    "                scaler.update()\n",
    "            else:\n",
    "                optimizer.step()\n",
    "            optimizer.zero_grad()\n",
    "            global_step += 1\n",
    "        # measure elapsed time\n",
    "        batch_time.update(time.time() - end)\n",
    "        end = time.time()\n",
    "        if step % CFG.print_freq == 0 or step == (len(train_loader)-1):\n",
    "            print('Epoch: [{0}][{1}/{2}] '\n",
    "                  'Elapsed {remain:s} '\n",
    "                  'Loss: {loss.val:.4f}({loss.avg:.4f}) '\n",
    "                  'Grad: {grad_norm:.4f} '\n",
    "                  'LR: {lr:.6f}  '\n",
    "                  .format(epoch+1, step, len(train_loader), \n",
    "                          remain=timeSince(start, float(step+1)/len(train_loader)),\n",
    "                          loss=losses,\n",
    "                          grad_norm=grad_norm,\n",
    "                          lr=scheduler.get_lr()[0]))\n",
    "        wandb.log({f\"[fold{fold}] loss\": losses.val,\n",
    "                   f\"[fold{fold}] lr\": scheduler.get_lr()[0]})\n",
    "    return losses.avg\n",
    "\n",
    "\n",
    "def valid_fn(valid_loader, model, criterion, device):\n",
    "    batch_time = AverageMeter()\n",
    "    data_time = AverageMeter()\n",
    "    losses = AverageMeter()\n",
    "    scores = AverageMeter()\n",
    "    # switch to evaluation mode\n",
    "    model.eval()\n",
    "    \n",
    "    activation = nn.Softmax(dim=1)\n",
    "    all_predicts, all_confs = [], []\n",
    "    \n",
    "    start = end = time.time()\n",
    "    for step, (images, labels) in enumerate(valid_loader):\n",
    "        # measure data loading time\n",
    "        data_time.update(time.time() - end)\n",
    "        images = images.to(device).float()\n",
    "        labels = labels.to(device).long()\n",
    "        batch_size = labels.size(0)\n",
    "        # compute loss\n",
    "        with torch.no_grad():\n",
    "            y_preds = model(images, labels)\n",
    "        loss = criterion(y_preds, labels)\n",
    "        losses.update(loss.item(), batch_size)\n",
    "        y_preds = activation(y_preds)\n",
    "        confs, predicts = torch.topk(y_preds, 5)\n",
    "        all_predicts.append(predicts.to('cpu').numpy())\n",
    "        #all_confs.append(confs.to('cpu').numpy())\n",
    "        if CFG.gradient_accumulation_steps > 1:\n",
    "            loss = loss / CFG.gradient_accumulation_steps\n",
    "        # measure elapsed time\n",
    "        batch_time.update(time.time() - end)\n",
    "        end = time.time()\n",
    "        if step % CFG.print_freq == 0 or step == (len(valid_loader)-1):\n",
    "            print('EVAL: [{0}/{1}] '\n",
    "                  'Elapsed {remain:s} '\n",
    "                  'Loss: {loss.val:.4f}({loss.avg:.4f}) '\n",
    "                  .format(step, len(valid_loader),\n",
    "                          loss=losses,\n",
    "                          remain=timeSince(start, float(step+1)/len(valid_loader))))\n",
    "    predictions = np.concatenate(all_predicts)\n",
    "    return losses.avg, predictions"
   ]
  },
  {
   "cell_type": "markdown",
   "id": "d54452a9",
   "metadata": {
    "papermill": {
     "duration": 0.049254,
     "end_time": "2022-03-17T17:21:31.327057",
     "exception": false,
     "start_time": "2022-03-17T17:21:31.277803",
     "status": "completed"
    },
    "tags": []
   },
   "source": [
    "# Train Loop"
   ]
  },
  {
   "cell_type": "code",
   "execution_count": 21,
   "id": "d95f65c4",
   "metadata": {
    "execution": {
     "iopub.execute_input": "2022-03-17T17:21:31.446732Z",
     "iopub.status.busy": "2022-03-17T17:21:31.445188Z",
     "iopub.status.idle": "2022-03-17T17:21:31.448353Z",
     "shell.execute_reply": "2022-03-17T17:21:31.447604Z",
     "shell.execute_reply.started": "2022-03-17T17:14:35.290632Z"
    },
    "papermill": {
     "duration": 0.071633,
     "end_time": "2022-03-17T17:21:31.448550",
     "exception": false,
     "start_time": "2022-03-17T17:21:31.376917",
     "status": "completed"
    },
    "tags": []
   },
   "outputs": [],
   "source": [
    "# ====================================================\n",
    "# Train loop\n",
    "# ====================================================\n",
    "def train_loop(folds, fold):\n",
    "    \n",
    "    LOGGER.info(f\"========== fold: {fold} training ==========\")\n",
    "\n",
    "    # ====================================================\n",
    "    # loader\n",
    "    # ====================================================\n",
    "    trn_idx = folds[folds['folds'] != fold].index\n",
    "    val_idx = folds[folds['folds'] == fold].index\n",
    "\n",
    "    train_folds = folds.loc[trn_idx].reset_index(drop=True)\n",
    "    valid_folds = folds.loc[val_idx].reset_index(drop=True)\n",
    "    valid_labels = valid_folds[\"turtle_id\"].values\n",
    "\n",
    "    train_dataset = TrainDataset(train_folds, transform=get_transforms(data='train'))\n",
    "    valid_dataset = TrainDataset(valid_folds, transform=get_transforms(data='valid'))\n",
    "\n",
    "    train_loader = DataLoader(train_dataset,\n",
    "                              batch_size=CFG.batch_size, \n",
    "                              shuffle=True, \n",
    "                              num_workers=CFG.num_workers, pin_memory=True, drop_last=True)\n",
    "    valid_loader = DataLoader(valid_dataset, \n",
    "                              batch_size=CFG.batch_size * 2, \n",
    "                              shuffle=False, \n",
    "                              num_workers=CFG.num_workers, pin_memory=True, drop_last=False)\n",
    "    \n",
    "    # ====================================================\n",
    "    # scheduler \n",
    "    # ====================================================\n",
    "    def get_scheduler(optimizer):\n",
    "        if CFG.scheduler=='ReduceLROnPlateau':\n",
    "            scheduler = ReduceLROnPlateau(optimizer, **CFG.reduce_params)\n",
    "        elif CFG.scheduler=='CosineAnnealingLR':\n",
    "            scheduler = CosineAnnealingLR(optimizer, **CFG.cosanneal_params)\n",
    "        elif CFG.scheduler=='CosineAnnealingWarmRestarts':\n",
    "            scheduler = CosineAnnealingWarmRestarts(optimizer, **CFG.cosanneal_res_params)\n",
    "        return scheduler\n",
    "\n",
    "    # ====================================================\n",
    "    # model & optimizer\n",
    "    # ====================================================\n",
    "    model = turtleModel(pretrained=True)\n",
    "    model.to(device)\n",
    "\n",
    "    optimizer = Adam(model.parameters(), lr=CFG.lr, weight_decay=CFG.weight_decay)\n",
    "    scheduler = get_scheduler(optimizer)\n",
    "\n",
    "    # ====================================================\n",
    "    # loop\n",
    "    # ====================================================\n",
    "    criterion = nn.CrossEntropyLoss()\n",
    "    best_score = 0.\n",
    "    best_loss = np.inf\n",
    "    \n",
    "    for epoch in range(CFG.epochs):\n",
    "        \n",
    "        start_time = time.time()\n",
    "        \n",
    "        # train\n",
    "        avg_loss = train_fn(fold, train_loader, model, criterion, optimizer, epoch, scheduler, device)\n",
    "\n",
    "        # eval\n",
    "        avg_val_loss, preds = valid_fn(valid_loader, model, criterion, device)\n",
    "        \n",
    "        if isinstance(scheduler, ReduceLROnPlateau):\n",
    "            scheduler.step(avg_val_loss)\n",
    "        elif isinstance(scheduler, CosineAnnealingLR):\n",
    "            scheduler.step()\n",
    "        elif isinstance(scheduler, CosineAnnealingWarmRestarts):\n",
    "            scheduler.step()\n",
    "\n",
    "        # scoring\n",
    "        \n",
    "        #preds_label = np.argmax(preds, axis=1)\n",
    "        #score = mapk(valid_labels, preds)\n",
    "\n",
    "        elapsed = time.time() - start_time\n",
    "\n",
    "        LOGGER.info(f'Epoch {epoch+1} - avg_train_loss: {avg_loss:.4f}  avg_val_loss: {avg_val_loss:.4f}  time: {elapsed:.0f}s')\n",
    "        #LOGGER.info(f'Epoch {epoch+1} - Score: {score:.4f}')\n",
    "        wandb.log({f\"[fold{fold}] epoch\": epoch+1, \n",
    "                   f\"[fold{fold}] avg_train_loss\": avg_loss, \n",
    "                   f\"[fold{fold}] avg_val_loss\": avg_val_loss})\n",
    "                   #f\"[fold{fold}] score\": score})\n",
    "\n",
    "        #if score >= best_score:\n",
    "        #    best_score = score\n",
    "        #    LOGGER.info(f'Epoch {epoch+1} - Save Best Score: {best_score:.4f} Model')\n",
    "        #    torch.save({'model': model.state_dict(), \n",
    "        #                'preds_score': preds},\n",
    "        #                OUTPUT_DIR+f'{CFG.model_name}_fold{fold}_best_score.pth')\n",
    "            \n",
    "        if avg_val_loss < best_loss:\n",
    "            best_loss = avg_val_loss\n",
    "            LOGGER.info(f'Epoch {epoch+1} - Save Best Loss: {best_loss:.4f} Model')\n",
    "            torch.save({'model': model.state_dict(), \n",
    "                        'preds_loss': preds},\n",
    "                        OUTPUT_DIR+f'{CFG.model_name}_fold{fold}_best_loss.pth')\n",
    "        \n",
    "        \n",
    "    #valid_folds[CFG.preds_score_labels] = torch.load(OUTPUT_DIR+f'{CFG.model_name}_fold{fold}_best_score.pth', \n",
    "    #                                  map_location=torch.device('cpu'))['preds_score']\n",
    "    valid_folds[CFG.preds_loss_labels] = torch.load(OUTPUT_DIR+f'{CFG.model_name}_fold{fold}_best_loss.pth', \n",
    "                                      map_location=torch.device('cpu'))['preds_loss']\n",
    "   \n",
    "\n",
    "    return valid_folds"
   ]
  },
  {
   "cell_type": "code",
   "execution_count": 22,
   "id": "c3c82f85",
   "metadata": {
    "execution": {
     "iopub.execute_input": "2022-03-17T17:21:31.576987Z",
     "iopub.status.busy": "2022-03-17T17:21:31.575902Z",
     "iopub.status.idle": "2022-03-17T17:21:31.578798Z",
     "shell.execute_reply": "2022-03-17T17:21:31.579847Z",
     "shell.execute_reply.started": "2022-03-17T17:14:35.312853Z"
    },
    "papermill": {
     "duration": 0.070569,
     "end_time": "2022-03-17T17:21:31.580058",
     "exception": false,
     "start_time": "2022-03-17T17:21:31.509489",
     "status": "completed"
    },
    "tags": []
   },
   "outputs": [],
   "source": [
    "# ====================================================\n",
    "# main\n",
    "# ====================================================\n",
    "def main():\n",
    "\n",
    "    \"\"\"\n",
    "    Prepare: 1.train \n",
    "    \"\"\"\n",
    "\n",
    "    def get_result(result_df):\n",
    "        preds_score = result_df[CFG.preds_score_labels].values\n",
    "        preds_loss = result_df[CFG.preds_loss_labels].values\n",
    "        labels = result_df[\"turtle_id\"].values\n",
    "        #score = mapk(labels, preds_score)\n",
    "        #score_loss = mapk(labels, preds_loss)\n",
    "        #LOGGER.info(f'Score with best score weights: {score:<.4f}')\n",
    "        #LOGGER.info(f'Score with best loss weights: {score_loss:<.4f}')\n",
    "    \n",
    "    if CFG.train:\n",
    "        # train \n",
    "        oof_df = pd.DataFrame()\n",
    "        for fold in range(CFG.nfolds):\n",
    "            if fold in CFG.trn_folds:\n",
    "                _oof_df = train_loop(train, fold)\n",
    "                oof_df = pd.concat([oof_df, _oof_df])\n",
    "                LOGGER.info(f\"========== fold: {fold} result ==========\")\n",
    "                #get_result(_oof_df)\n",
    "        # CV result\n",
    "        LOGGER.info(f\"========== CV ==========\")\n",
    "        #get_result(oof_df)\n",
    "        # save result\n",
    "        oof_df.to_csv(OUTPUT_DIR+'oof_df.csv', index=False)\n",
    "        \n",
    "    wandb.finish()"
   ]
  },
  {
   "cell_type": "code",
   "execution_count": 23,
   "id": "d50a299d",
   "metadata": {
    "execution": {
     "iopub.execute_input": "2022-03-17T17:21:31.697922Z",
     "iopub.status.busy": "2022-03-17T17:21:31.693140Z",
     "iopub.status.idle": "2022-03-17T18:45:10.334037Z",
     "shell.execute_reply": "2022-03-17T18:45:10.333565Z"
    },
    "papermill": {
     "duration": 5018.696228,
     "end_time": "2022-03-17T18:45:10.334180",
     "exception": false,
     "start_time": "2022-03-17T17:21:31.637952",
     "status": "completed"
    },
    "tags": []
   },
   "outputs": [
    {
     "name": "stderr",
     "output_type": "stream",
     "text": [
      "========== fold: 0 training ==========\n"
     ]
    },
    {
     "name": "stdout",
     "output_type": "stream",
     "text": [
      "Building Model Backbone for resnet50d model\n"
     ]
    },
    {
     "name": "stderr",
     "output_type": "stream",
     "text": [
      "Downloading: \"https://github.com/rwightman/pytorch-image-models/releases/download/v0.1-weights/resnet50d_ra2-464e36ba.pth\" to /root/.cache/torch/hub/checkpoints/resnet50d_ra2-464e36ba.pth\n"
     ]
    },
    {
     "name": "stdout",
     "output_type": "stream",
     "text": [
      "Epoch: [1][0/13] Elapsed 0m 35s (remain 7m 0s) Loss: 7.5922(7.5922) Grad: 0.1527 LR: 0.001000  \n",
      "Epoch: [1][12/13] Elapsed 0m 42s (remain 0m 0s) Loss: 7.5717(7.5819) Grad: 0.1525 LR: 0.001000  \n",
      "EVAL: [0/2] Elapsed 0m 10s (remain 0m 10s) Loss: 7.6350(7.6350) \n",
      "EVAL: [1/2] Elapsed 0m 10s (remain 0m 0s) Loss: 7.6360(7.6354) \n"
     ]
    },
    {
     "name": "stderr",
     "output_type": "stream",
     "text": [
      "Epoch 1 - avg_train_loss: 7.5819  avg_val_loss: 7.6354  time: 53s\n",
      "Epoch 1 - Save Best Loss: 7.6354 Model\n"
     ]
    },
    {
     "name": "stdout",
     "output_type": "stream",
     "text": [
      "Epoch: [2][0/13] Elapsed 0m 25s (remain 5m 4s) Loss: 7.5327(7.5327) Grad: 0.1339 LR: 0.000505  \n",
      "Epoch: [2][12/13] Elapsed 0m 40s (remain 0m 0s) Loss: 7.4574(7.5021) Grad: 0.1083 LR: 0.000505  \n",
      "EVAL: [0/2] Elapsed 0m 9s (remain 0m 9s) Loss: 7.4772(7.4772) \n",
      "EVAL: [1/2] Elapsed 0m 9s (remain 0m 0s) Loss: 7.4926(7.4834) \n"
     ]
    },
    {
     "name": "stderr",
     "output_type": "stream",
     "text": [
      "Epoch 2 - avg_train_loss: 7.5021  avg_val_loss: 7.4834  time: 51s\n",
      "Epoch 2 - Save Best Loss: 7.4834 Model\n"
     ]
    },
    {
     "name": "stdout",
     "output_type": "stream",
     "text": [
      "Epoch: [3][0/13] Elapsed 0m 22s (remain 4m 25s) Loss: 7.4345(7.4345) Grad: 0.1268 LR: 0.001000  \n",
      "Epoch: [3][12/13] Elapsed 0m 39s (remain 0m 0s) Loss: 7.2918(7.3585) Grad: 0.0767 LR: 0.001000  \n",
      "EVAL: [0/2] Elapsed 0m 9s (remain 0m 9s) Loss: 7.2752(7.2752) \n",
      "EVAL: [1/2] Elapsed 0m 9s (remain 0m 0s) Loss: 7.2840(7.2788) \n"
     ]
    },
    {
     "name": "stderr",
     "output_type": "stream",
     "text": [
      "Epoch 3 - avg_train_loss: 7.3585  avg_val_loss: 7.2788  time: 50s\n",
      "Epoch 3 - Save Best Loss: 7.2788 Model\n"
     ]
    },
    {
     "name": "stdout",
     "output_type": "stream",
     "text": [
      "Epoch: [4][0/13] Elapsed 0m 22s (remain 4m 27s) Loss: 7.2719(7.2719) Grad: 0.0569 LR: 0.000505  \n",
      "Epoch: [4][12/13] Elapsed 0m 40s (remain 0m 0s) Loss: 7.2211(7.2473) Grad: 0.0440 LR: 0.000505  \n",
      "EVAL: [0/2] Elapsed 0m 9s (remain 0m 9s) Loss: 7.2235(7.2235) \n",
      "EVAL: [1/2] Elapsed 0m 9s (remain 0m 0s) Loss: 7.2320(7.2269) \n"
     ]
    },
    {
     "name": "stderr",
     "output_type": "stream",
     "text": [
      "Epoch 4 - avg_train_loss: 7.2473  avg_val_loss: 7.2269  time: 50s\n",
      "Epoch 4 - Save Best Loss: 7.2269 Model\n"
     ]
    },
    {
     "name": "stdout",
     "output_type": "stream",
     "text": [
      "Epoch: [5][0/13] Elapsed 0m 24s (remain 4m 48s) Loss: 7.2173(7.2173) Grad: 0.0446 LR: 0.001000  \n",
      "Epoch: [5][12/13] Elapsed 0m 39s (remain 0m 0s) Loss: 7.1663(7.1904) Grad: 0.0310 LR: 0.001000  \n",
      "EVAL: [0/2] Elapsed 0m 9s (remain 0m 9s) Loss: 7.1686(7.1686) \n",
      "EVAL: [1/2] Elapsed 0m 10s (remain 0m 0s) Loss: 7.1758(7.1715) \n"
     ]
    },
    {
     "name": "stderr",
     "output_type": "stream",
     "text": [
      "Epoch 5 - avg_train_loss: 7.1904  avg_val_loss: 7.1715  time: 50s\n",
      "Epoch 5 - Save Best Loss: 7.1715 Model\n"
     ]
    },
    {
     "name": "stdout",
     "output_type": "stream",
     "text": [
      "Epoch: [6][0/13] Elapsed 0m 24s (remain 4m 49s) Loss: 7.1760(7.1760) Grad: 0.0308 LR: 0.000505  \n",
      "Epoch: [6][12/13] Elapsed 0m 38s (remain 0m 0s) Loss: 7.1530(7.1682) Grad: 0.0699 LR: 0.000505  \n",
      "EVAL: [0/2] Elapsed 0m 9s (remain 0m 9s) Loss: 7.1616(7.1616) \n",
      "EVAL: [1/2] Elapsed 0m 9s (remain 0m 0s) Loss: 7.1704(7.1652) \n"
     ]
    },
    {
     "name": "stderr",
     "output_type": "stream",
     "text": [
      "Epoch 6 - avg_train_loss: 7.1682  avg_val_loss: 7.1652  time: 49s\n",
      "Epoch 6 - Save Best Loss: 7.1652 Model\n"
     ]
    },
    {
     "name": "stdout",
     "output_type": "stream",
     "text": [
      "Epoch: [7][0/13] Elapsed 0m 20s (remain 4m 4s) Loss: 7.1523(7.1523) Grad: 0.0405 LR: 0.001000  \n",
      "Epoch: [7][12/13] Elapsed 0m 38s (remain 0m 0s) Loss: 7.1547(7.1458) Grad: 0.0498 LR: 0.001000  \n",
      "EVAL: [0/2] Elapsed 0m 9s (remain 0m 9s) Loss: 7.1647(7.1647) \n",
      "EVAL: [1/2] Elapsed 0m 9s (remain 0m 0s) Loss: 7.1920(7.1757) \n"
     ]
    },
    {
     "name": "stderr",
     "output_type": "stream",
     "text": [
      "Epoch 7 - avg_train_loss: 7.1458  avg_val_loss: 7.1757  time: 49s\n"
     ]
    },
    {
     "name": "stdout",
     "output_type": "stream",
     "text": [
      "Epoch: [8][0/13] Elapsed 0m 26s (remain 5m 12s) Loss: 7.1462(7.1462) Grad: 0.0344 LR: 0.000505  \n",
      "Epoch: [8][12/13] Elapsed 0m 39s (remain 0m 0s) Loss: 7.1563(7.1794) Grad: 0.0597 LR: 0.000505  \n",
      "EVAL: [0/2] Elapsed 0m 9s (remain 0m 9s) Loss: 7.1345(7.1345) \n",
      "EVAL: [1/2] Elapsed 0m 9s (remain 0m 0s) Loss: 7.1368(7.1354) \n"
     ]
    },
    {
     "name": "stderr",
     "output_type": "stream",
     "text": [
      "Epoch 8 - avg_train_loss: 7.1794  avg_val_loss: 7.1354  time: 49s\n",
      "Epoch 8 - Save Best Loss: 7.1354 Model\n"
     ]
    },
    {
     "name": "stdout",
     "output_type": "stream",
     "text": [
      "Epoch: [9][0/13] Elapsed 0m 22s (remain 4m 29s) Loss: 7.1705(7.1705) Grad: 4.0103 LR: 0.001000  \n",
      "Epoch: [9][12/13] Elapsed 0m 39s (remain 0m 0s) Loss: 7.1517(7.1485) Grad: 0.5298 LR: 0.001000  \n",
      "EVAL: [0/2] Elapsed 0m 9s (remain 0m 9s) Loss: 7.2180(7.2180) \n",
      "EVAL: [1/2] Elapsed 0m 9s (remain 0m 0s) Loss: 7.1827(7.2038) \n"
     ]
    },
    {
     "name": "stderr",
     "output_type": "stream",
     "text": [
      "Epoch 9 - avg_train_loss: 7.1485  avg_val_loss: 7.2038  time: 49s\n"
     ]
    },
    {
     "name": "stdout",
     "output_type": "stream",
     "text": [
      "Epoch: [10][0/13] Elapsed 0m 23s (remain 4m 40s) Loss: 7.1499(7.1499) Grad: 0.0245 LR: 0.000505  \n",
      "Epoch: [10][12/13] Elapsed 0m 39s (remain 0m 0s) Loss: 7.1664(7.1390) Grad: 0.0226 LR: 0.000505  \n",
      "EVAL: [0/2] Elapsed 0m 9s (remain 0m 9s) Loss: 7.6283(7.6283) \n",
      "EVAL: [1/2] Elapsed 0m 9s (remain 0m 0s) Loss: 7.5608(7.6011) \n"
     ]
    },
    {
     "name": "stderr",
     "output_type": "stream",
     "text": [
      "Epoch 10 - avg_train_loss: 7.1390  avg_val_loss: 7.6011  time: 49s\n"
     ]
    },
    {
     "name": "stdout",
     "output_type": "stream",
     "text": [
      "Epoch: [11][0/13] Elapsed 0m 20s (remain 4m 8s) Loss: 7.1625(7.1625) Grad: 0.3276 LR: 0.001000  \n",
      "Epoch: [11][12/13] Elapsed 0m 39s (remain 0m 0s) Loss: 7.1249(7.1482) Grad: 0.8225 LR: 0.001000  \n",
      "EVAL: [0/2] Elapsed 0m 9s (remain 0m 9s) Loss: 7.1129(7.1129) \n",
      "EVAL: [1/2] Elapsed 0m 9s (remain 0m 0s) Loss: 7.1146(7.1136) \n"
     ]
    },
    {
     "name": "stderr",
     "output_type": "stream",
     "text": [
      "Epoch 11 - avg_train_loss: 7.1482  avg_val_loss: 7.1136  time: 50s\n",
      "Epoch 11 - Save Best Loss: 7.1136 Model\n"
     ]
    },
    {
     "name": "stdout",
     "output_type": "stream",
     "text": [
      "Epoch: [12][0/13] Elapsed 0m 21s (remain 4m 20s) Loss: 7.1209(7.1209) Grad: 0.0244 LR: 0.000505  \n",
      "Epoch: [12][12/13] Elapsed 0m 40s (remain 0m 0s) Loss: 7.1203(7.1284) Grad: 0.0755 LR: 0.000505  \n",
      "EVAL: [0/2] Elapsed 0m 9s (remain 0m 9s) Loss: 7.1223(7.1223) \n",
      "EVAL: [1/2] Elapsed 0m 9s (remain 0m 0s) Loss: 7.1115(7.1179) \n"
     ]
    },
    {
     "name": "stderr",
     "output_type": "stream",
     "text": [
      "Epoch 12 - avg_train_loss: 7.1284  avg_val_loss: 7.1179  time: 50s\n"
     ]
    },
    {
     "name": "stdout",
     "output_type": "stream",
     "text": [
      "Epoch: [13][0/13] Elapsed 0m 23s (remain 4m 37s) Loss: 7.1203(7.1203) Grad: 0.0097 LR: 0.001000  \n",
      "Epoch: [13][12/13] Elapsed 0m 39s (remain 0m 0s) Loss: 7.1341(7.1266) Grad: 0.0588 LR: 0.001000  \n",
      "EVAL: [0/2] Elapsed 0m 9s (remain 0m 9s) Loss: 7.1279(7.1279) \n",
      "EVAL: [1/2] Elapsed 0m 9s (remain 0m 0s) Loss: 7.1130(7.1219) \n"
     ]
    },
    {
     "name": "stderr",
     "output_type": "stream",
     "text": [
      "Epoch 13 - avg_train_loss: 7.1266  avg_val_loss: 7.1219  time: 49s\n"
     ]
    },
    {
     "name": "stdout",
     "output_type": "stream",
     "text": [
      "Epoch: [14][0/13] Elapsed 0m 24s (remain 4m 59s) Loss: 7.1260(7.1260) Grad: 0.0499 LR: 0.000505  \n",
      "Epoch: [14][12/13] Elapsed 0m 39s (remain 0m 0s) Loss: 7.1342(7.1223) Grad: 0.0477 LR: 0.000505  \n",
      "EVAL: [0/2] Elapsed 0m 9s (remain 0m 9s) Loss: 7.2209(7.2209) \n",
      "EVAL: [1/2] Elapsed 0m 9s (remain 0m 0s) Loss: 7.2581(7.2359) \n"
     ]
    },
    {
     "name": "stderr",
     "output_type": "stream",
     "text": [
      "Epoch 14 - avg_train_loss: 7.1223  avg_val_loss: 7.2359  time: 49s\n"
     ]
    },
    {
     "name": "stdout",
     "output_type": "stream",
     "text": [
      "Epoch: [15][0/13] Elapsed 0m 21s (remain 4m 17s) Loss: 7.1170(7.1170) Grad: 0.0059 LR: 0.001000  \n",
      "Epoch: [15][12/13] Elapsed 0m 38s (remain 0m 0s) Loss: 7.1168(7.1215) Grad: 0.0054 LR: 0.001000  \n",
      "EVAL: [0/2] Elapsed 0m 9s (remain 0m 9s) Loss: 7.1779(7.1779) \n",
      "EVAL: [1/2] Elapsed 0m 9s (remain 0m 0s) Loss: 7.1955(7.1850) \n"
     ]
    },
    {
     "name": "stderr",
     "output_type": "stream",
     "text": [
      "Epoch 15 - avg_train_loss: 7.1215  avg_val_loss: 7.1850  time: 48s\n"
     ]
    },
    {
     "name": "stdout",
     "output_type": "stream",
     "text": [
      "Epoch: [16][0/13] Elapsed 0m 23s (remain 4m 37s) Loss: 7.1248(7.1248) Grad: 0.1933 LR: 0.000505  \n",
      "Epoch: [16][12/13] Elapsed 0m 39s (remain 0m 0s) Loss: 7.1249(7.1198) Grad: 0.0179 LR: 0.000505  \n",
      "EVAL: [0/2] Elapsed 0m 9s (remain 0m 9s) Loss: 7.1314(7.1314) \n",
      "EVAL: [1/2] Elapsed 0m 9s (remain 0m 0s) Loss: 7.1647(7.1448) \n"
     ]
    },
    {
     "name": "stderr",
     "output_type": "stream",
     "text": [
      "Epoch 16 - avg_train_loss: 7.1198  avg_val_loss: 7.1448  time: 49s\n"
     ]
    },
    {
     "name": "stdout",
     "output_type": "stream",
     "text": [
      "Epoch: [17][0/13] Elapsed 0m 24s (remain 4m 53s) Loss: 7.1336(7.1336) Grad: 0.0489 LR: 0.001000  \n",
      "Epoch: [17][12/13] Elapsed 0m 39s (remain 0m 0s) Loss: 7.1236(7.1219) Grad: 0.3772 LR: 0.001000  \n",
      "EVAL: [0/2] Elapsed 0m 9s (remain 0m 9s) Loss: 7.1273(7.1273) \n",
      "EVAL: [1/2] Elapsed 0m 9s (remain 0m 0s) Loss: 7.1277(7.1275) \n"
     ]
    },
    {
     "name": "stderr",
     "output_type": "stream",
     "text": [
      "Epoch 17 - avg_train_loss: 7.1219  avg_val_loss: 7.1275  time: 50s\n"
     ]
    },
    {
     "name": "stdout",
     "output_type": "stream",
     "text": [
      "Epoch: [18][0/13] Elapsed 0m 20s (remain 4m 3s) Loss: 7.1282(7.1282) Grad: 1.7160 LR: 0.000505  \n",
      "Epoch: [18][12/13] Elapsed 0m 38s (remain 0m 0s) Loss: 7.1166(7.1207) Grad: 0.0053 LR: 0.000505  \n",
      "EVAL: [0/2] Elapsed 0m 9s (remain 0m 9s) Loss: 7.1539(7.1539) \n",
      "EVAL: [1/2] Elapsed 0m 9s (remain 0m 0s) Loss: 7.1707(7.1607) \n"
     ]
    },
    {
     "name": "stderr",
     "output_type": "stream",
     "text": [
      "Epoch 18 - avg_train_loss: 7.1207  avg_val_loss: 7.1607  time: 49s\n"
     ]
    },
    {
     "name": "stdout",
     "output_type": "stream",
     "text": [
      "Epoch: [19][0/13] Elapsed 0m 23s (remain 4m 44s) Loss: 7.1267(7.1267) Grad: 3.0307 LR: 0.001000  \n",
      "Epoch: [19][12/13] Elapsed 0m 39s (remain 0m 0s) Loss: 7.1403(7.1278) Grad: 0.3367 LR: 0.001000  \n",
      "EVAL: [0/2] Elapsed 0m 9s (remain 0m 9s) Loss: 7.1078(7.1078) \n",
      "EVAL: [1/2] Elapsed 0m 9s (remain 0m 0s) Loss: 7.1079(7.1078) \n"
     ]
    },
    {
     "name": "stderr",
     "output_type": "stream",
     "text": [
      "Epoch 19 - avg_train_loss: 7.1278  avg_val_loss: 7.1078  time: 49s\n",
      "Epoch 19 - Save Best Loss: 7.1078 Model\n"
     ]
    },
    {
     "name": "stdout",
     "output_type": "stream",
     "text": [
      "Epoch: [20][0/13] Elapsed 0m 20s (remain 4m 11s) Loss: 7.1207(7.1207) Grad: 5.5458 LR: 0.000505  \n",
      "Epoch: [20][12/13] Elapsed 0m 39s (remain 0m 0s) Loss: 7.1250(7.1302) Grad: 0.0048 LR: 0.000505  \n",
      "EVAL: [0/2] Elapsed 0m 9s (remain 0m 9s) Loss: 7.1077(7.1077) \n",
      "EVAL: [1/2] Elapsed 0m 9s (remain 0m 0s) Loss: 7.1077(7.1077) \n"
     ]
    },
    {
     "name": "stderr",
     "output_type": "stream",
     "text": [
      "Epoch 20 - avg_train_loss: 7.1302  avg_val_loss: 7.1077  time: 49s\n",
      "Epoch 20 - Save Best Loss: 7.1077 Model\n",
      "========== fold: 0 result ==========\n",
      "========== fold: 1 training ==========\n"
     ]
    },
    {
     "name": "stdout",
     "output_type": "stream",
     "text": [
      "Building Model Backbone for resnet50d model\n",
      "Epoch: [1][0/13] Elapsed 0m 21s (remain 4m 22s) Loss: 7.5917(7.5917) Grad: 0.1578 LR: 0.001000  \n",
      "Epoch: [1][12/13] Elapsed 0m 39s (remain 0m 0s) Loss: 7.5563(7.5796) Grad: 0.1340 LR: 0.001000  \n",
      "EVAL: [0/2] Elapsed 0m 9s (remain 0m 9s) Loss: 7.6326(7.6326) \n",
      "EVAL: [1/2] Elapsed 0m 10s (remain 0m 0s) Loss: 7.6394(7.6354) \n"
     ]
    },
    {
     "name": "stderr",
     "output_type": "stream",
     "text": [
      "Epoch 1 - avg_train_loss: 7.5796  avg_val_loss: 7.6354  time: 50s\n",
      "Epoch 1 - Save Best Loss: 7.6354 Model\n"
     ]
    },
    {
     "name": "stdout",
     "output_type": "stream",
     "text": [
      "Epoch: [2][0/13] Elapsed 0m 20s (remain 4m 11s) Loss: 7.5232(7.5232) Grad: 0.1193 LR: 0.000505  \n",
      "Epoch: [2][12/13] Elapsed 0m 38s (remain 0m 0s) Loss: 7.4245(7.4765) Grad: 0.0944 LR: 0.000505  \n",
      "EVAL: [0/2] Elapsed 0m 9s (remain 0m 9s) Loss: 7.4271(7.4271) \n",
      "EVAL: [1/2] Elapsed 0m 9s (remain 0m 0s) Loss: 7.4303(7.4284) \n"
     ]
    },
    {
     "name": "stderr",
     "output_type": "stream",
     "text": [
      "Epoch 2 - avg_train_loss: 7.4765  avg_val_loss: 7.4284  time: 49s\n",
      "Epoch 2 - Save Best Loss: 7.4284 Model\n"
     ]
    },
    {
     "name": "stdout",
     "output_type": "stream",
     "text": [
      "Epoch: [3][0/13] Elapsed 0m 23s (remain 4m 44s) Loss: 7.4156(7.4156) Grad: 0.0971 LR: 0.001000  \n",
      "Epoch: [3][12/13] Elapsed 0m 38s (remain 0m 0s) Loss: 7.2711(7.3416) Grad: 0.2661 LR: 0.001000  \n",
      "EVAL: [0/2] Elapsed 0m 9s (remain 0m 9s) Loss: 7.2603(7.2603) \n",
      "EVAL: [1/2] Elapsed 0m 10s (remain 0m 0s) Loss: 7.2588(7.2597) \n"
     ]
    },
    {
     "name": "stderr",
     "output_type": "stream",
     "text": [
      "Epoch 3 - avg_train_loss: 7.3416  avg_val_loss: 7.2597  time: 50s\n",
      "Epoch 3 - Save Best Loss: 7.2597 Model\n"
     ]
    },
    {
     "name": "stdout",
     "output_type": "stream",
     "text": [
      "Epoch: [4][0/13] Elapsed 0m 20s (remain 4m 2s) Loss: 7.2705(7.2705) Grad: 0.0947 LR: 0.000505  \n",
      "Epoch: [4][12/13] Elapsed 0m 38s (remain 0m 0s) Loss: 7.2256(7.2445) Grad: 0.0668 LR: 0.000505  \n",
      "EVAL: [0/2] Elapsed 0m 9s (remain 0m 9s) Loss: 7.2198(7.2198) \n",
      "EVAL: [1/2] Elapsed 0m 9s (remain 0m 0s) Loss: 7.2385(7.2274) \n"
     ]
    },
    {
     "name": "stderr",
     "output_type": "stream",
     "text": [
      "Epoch 4 - avg_train_loss: 7.2445  avg_val_loss: 7.2274  time: 49s\n",
      "Epoch 4 - Save Best Loss: 7.2274 Model\n"
     ]
    },
    {
     "name": "stdout",
     "output_type": "stream",
     "text": [
      "Epoch: [5][0/13] Elapsed 0m 22s (remain 4m 24s) Loss: 7.2086(7.2086) Grad: 0.0440 LR: 0.001000  \n",
      "Epoch: [5][12/13] Elapsed 0m 39s (remain 0m 0s) Loss: 7.1752(7.1916) Grad: 0.0498 LR: 0.001000  \n",
      "EVAL: [0/2] Elapsed 0m 10s (remain 0m 10s) Loss: 7.2095(7.2095) \n",
      "EVAL: [1/2] Elapsed 0m 10s (remain 0m 0s) Loss: 7.1898(7.2016) \n"
     ]
    },
    {
     "name": "stderr",
     "output_type": "stream",
     "text": [
      "Epoch 5 - avg_train_loss: 7.1916  avg_val_loss: 7.2016  time: 50s\n",
      "Epoch 5 - Save Best Loss: 7.2016 Model\n"
     ]
    },
    {
     "name": "stdout",
     "output_type": "stream",
     "text": [
      "Epoch: [6][0/13] Elapsed 0m 21s (remain 4m 21s) Loss: 7.1650(7.1650) Grad: 0.0435 LR: 0.000505  \n",
      "Epoch: [6][12/13] Elapsed 0m 38s (remain 0m 0s) Loss: 7.1535(7.1694) Grad: 0.0417 LR: 0.000505  \n",
      "EVAL: [0/2] Elapsed 0m 9s (remain 0m 9s) Loss: 7.4300(7.4300) \n",
      "EVAL: [1/2] Elapsed 0m 9s (remain 0m 0s) Loss: 7.3808(7.4101) \n"
     ]
    },
    {
     "name": "stderr",
     "output_type": "stream",
     "text": [
      "Epoch 6 - avg_train_loss: 7.1694  avg_val_loss: 7.4101  time: 49s\n"
     ]
    },
    {
     "name": "stdout",
     "output_type": "stream",
     "text": [
      "Epoch: [7][0/13] Elapsed 0m 21s (remain 4m 17s) Loss: 7.1736(7.1736) Grad: 0.4734 LR: 0.001000  \n",
      "Epoch: [7][12/13] Elapsed 0m 39s (remain 0m 0s) Loss: 7.1531(7.1824) Grad: 0.7755 LR: 0.001000  \n",
      "EVAL: [0/2] Elapsed 0m 10s (remain 0m 10s) Loss: 7.1264(7.1264) \n",
      "EVAL: [1/2] Elapsed 0m 10s (remain 0m 0s) Loss: 7.1265(7.1264) \n"
     ]
    },
    {
     "name": "stderr",
     "output_type": "stream",
     "text": [
      "Epoch 7 - avg_train_loss: 7.1824  avg_val_loss: 7.1264  time: 50s\n",
      "Epoch 7 - Save Best Loss: 7.1264 Model\n"
     ]
    },
    {
     "name": "stdout",
     "output_type": "stream",
     "text": [
      "Epoch: [8][0/13] Elapsed 0m 20s (remain 4m 6s) Loss: 7.1567(7.1567) Grad: 0.3604 LR: 0.000505  \n",
      "Epoch: [8][12/13] Elapsed 0m 39s (remain 0m 0s) Loss: 7.1368(7.1433) Grad: 0.0224 LR: 0.000505  \n",
      "EVAL: [0/2] Elapsed 0m 9s (remain 0m 9s) Loss: 7.1292(7.1292) \n",
      "EVAL: [1/2] Elapsed 0m 9s (remain 0m 0s) Loss: 7.1332(7.1308) \n"
     ]
    },
    {
     "name": "stderr",
     "output_type": "stream",
     "text": [
      "Epoch 8 - avg_train_loss: 7.1433  avg_val_loss: 7.1308  time: 50s\n"
     ]
    },
    {
     "name": "stdout",
     "output_type": "stream",
     "text": [
      "Epoch: [9][0/13] Elapsed 0m 24s (remain 4m 55s) Loss: 7.1303(7.1303) Grad: 0.0230 LR: 0.001000  \n",
      "Epoch: [9][12/13] Elapsed 0m 39s (remain 0m 0s) Loss: 7.1237(7.1299) Grad: 0.0220 LR: 0.001000  \n",
      "EVAL: [0/2] Elapsed 0m 10s (remain 0m 10s) Loss: 7.1149(7.1149) \n",
      "EVAL: [1/2] Elapsed 0m 10s (remain 0m 0s) Loss: 7.1147(7.1148) \n"
     ]
    },
    {
     "name": "stderr",
     "output_type": "stream",
     "text": [
      "Epoch 9 - avg_train_loss: 7.1299  avg_val_loss: 7.1148  time: 50s\n",
      "Epoch 9 - Save Best Loss: 7.1148 Model\n"
     ]
    },
    {
     "name": "stdout",
     "output_type": "stream",
     "text": [
      "Epoch: [10][0/13] Elapsed 0m 24s (remain 4m 54s) Loss: 7.1240(7.1240) Grad: 0.0143 LR: 0.000505  \n",
      "Epoch: [10][12/13] Elapsed 0m 39s (remain 0m 0s) Loss: 7.1270(7.1255) Grad: 0.0178 LR: 0.000505  \n",
      "EVAL: [0/2] Elapsed 0m 9s (remain 0m 9s) Loss: 7.1125(7.1125) \n",
      "EVAL: [1/2] Elapsed 0m 9s (remain 0m 0s) Loss: 7.1125(7.1125) \n"
     ]
    },
    {
     "name": "stderr",
     "output_type": "stream",
     "text": [
      "Epoch 10 - avg_train_loss: 7.1255  avg_val_loss: 7.1125  time: 50s\n",
      "Epoch 10 - Save Best Loss: 7.1125 Model\n"
     ]
    },
    {
     "name": "stdout",
     "output_type": "stream",
     "text": [
      "Epoch: [11][0/13] Elapsed 0m 23s (remain 4m 43s) Loss: 7.1199(7.1199) Grad: 0.0093 LR: 0.001000  \n",
      "Epoch: [11][12/13] Elapsed 0m 38s (remain 0m 0s) Loss: 7.1368(7.1298) Grad: 0.7694 LR: 0.001000  \n",
      "EVAL: [0/2] Elapsed 0m 10s (remain 0m 10s) Loss: 7.2496(7.2496) \n",
      "EVAL: [1/2] Elapsed 0m 10s (remain 0m 0s) Loss: 7.2467(7.2484) \n"
     ]
    },
    {
     "name": "stderr",
     "output_type": "stream",
     "text": [
      "Epoch 11 - avg_train_loss: 7.1298  avg_val_loss: 7.2484  time: 49s\n"
     ]
    },
    {
     "name": "stdout",
     "output_type": "stream",
     "text": [
      "Epoch: [12][0/13] Elapsed 0m 24s (remain 4m 53s) Loss: 7.1271(7.1271) Grad: 0.1310 LR: 0.000505  \n",
      "Epoch: [12][12/13] Elapsed 0m 39s (remain 0m 0s) Loss: 7.1179(7.1246) Grad: 0.0093 LR: 0.000505  \n",
      "EVAL: [0/2] Elapsed 0m 9s (remain 0m 9s) Loss: 7.1492(7.1492) \n",
      "EVAL: [1/2] Elapsed 0m 9s (remain 0m 0s) Loss: 7.1394(7.1453) \n"
     ]
    },
    {
     "name": "stderr",
     "output_type": "stream",
     "text": [
      "Epoch 12 - avg_train_loss: 7.1246  avg_val_loss: 7.1453  time: 50s\n"
     ]
    },
    {
     "name": "stdout",
     "output_type": "stream",
     "text": [
      "Epoch: [13][0/13] Elapsed 0m 21s (remain 4m 20s) Loss: 7.1330(7.1330) Grad: 0.8090 LR: 0.001000  \n",
      "Epoch: [13][12/13] Elapsed 0m 38s (remain 0m 0s) Loss: 7.1178(7.1296) Grad: 0.0084 LR: 0.001000  \n",
      "EVAL: [0/2] Elapsed 0m 10s (remain 0m 10s) Loss: 7.1727(7.1727) \n",
      "EVAL: [1/2] Elapsed 0m 10s (remain 0m 0s) Loss: 7.2352(7.1979) \n"
     ]
    },
    {
     "name": "stderr",
     "output_type": "stream",
     "text": [
      "Epoch 13 - avg_train_loss: 7.1296  avg_val_loss: 7.1979  time: 50s\n"
     ]
    },
    {
     "name": "stdout",
     "output_type": "stream",
     "text": [
      "Epoch: [14][0/13] Elapsed 0m 20s (remain 4m 11s) Loss: 7.1279(7.1279) Grad: 0.1839 LR: 0.000505  \n",
      "Epoch: [14][12/13] Elapsed 0m 39s (remain 0m 0s) Loss: 7.1185(7.1210) Grad: 0.1784 LR: 0.000505  \n",
      "EVAL: [0/2] Elapsed 0m 9s (remain 0m 9s) Loss: 7.1535(7.1535) \n",
      "EVAL: [1/2] Elapsed 0m 9s (remain 0m 0s) Loss: 7.1780(7.1634) \n"
     ]
    },
    {
     "name": "stderr",
     "output_type": "stream",
     "text": [
      "Epoch 14 - avg_train_loss: 7.1210  avg_val_loss: 7.1634  time: 49s\n"
     ]
    },
    {
     "name": "stdout",
     "output_type": "stream",
     "text": [
      "Epoch: [15][0/13] Elapsed 0m 24s (remain 4m 51s) Loss: 7.1249(7.1249) Grad: 0.0332 LR: 0.001000  \n",
      "Epoch: [15][12/13] Elapsed 0m 39s (remain 0m 0s) Loss: 7.1371(7.1260) Grad: 2.6415 LR: 0.001000  \n",
      "EVAL: [0/2] Elapsed 0m 10s (remain 0m 10s) Loss: 7.1083(7.1083) \n",
      "EVAL: [1/2] Elapsed 0m 10s (remain 0m 0s) Loss: 7.1083(7.1083) \n"
     ]
    },
    {
     "name": "stderr",
     "output_type": "stream",
     "text": [
      "Epoch 15 - avg_train_loss: 7.1260  avg_val_loss: 7.1083  time: 50s\n",
      "Epoch 15 - Save Best Loss: 7.1083 Model\n"
     ]
    },
    {
     "name": "stdout",
     "output_type": "stream",
     "text": [
      "Epoch: [16][0/13] Elapsed 0m 20s (remain 4m 0s) Loss: 7.1178(7.1178) Grad: 0.0124 LR: 0.000505  \n",
      "Epoch: [16][12/13] Elapsed 0m 38s (remain 0m 0s) Loss: 7.1274(7.1213) Grad: 0.1991 LR: 0.000505  \n",
      "EVAL: [0/2] Elapsed 0m 9s (remain 0m 9s) Loss: 7.1084(7.1084) \n",
      "EVAL: [1/2] Elapsed 0m 10s (remain 0m 0s) Loss: 7.1085(7.1084) \n"
     ]
    },
    {
     "name": "stderr",
     "output_type": "stream",
     "text": [
      "Epoch 16 - avg_train_loss: 7.1213  avg_val_loss: 7.1084  time: 49s\n"
     ]
    },
    {
     "name": "stdout",
     "output_type": "stream",
     "text": [
      "Epoch: [17][0/13] Elapsed 0m 23s (remain 4m 43s) Loss: 7.1257(7.1257) Grad: 0.1662 LR: 0.001000  \n",
      "Epoch: [17][12/13] Elapsed 0m 39s (remain 0m 0s) Loss: 7.1165(7.1214) Grad: 0.0056 LR: 0.001000  \n",
      "EVAL: [0/2] Elapsed 0m 10s (remain 0m 10s) Loss: 7.1079(7.1079) \n",
      "EVAL: [1/2] Elapsed 0m 10s (remain 0m 0s) Loss: 7.1079(7.1079) \n"
     ]
    },
    {
     "name": "stderr",
     "output_type": "stream",
     "text": [
      "Epoch 17 - avg_train_loss: 7.1214  avg_val_loss: 7.1079  time: 51s\n",
      "Epoch 17 - Save Best Loss: 7.1079 Model\n"
     ]
    },
    {
     "name": "stdout",
     "output_type": "stream",
     "text": [
      "Epoch: [18][0/13] Elapsed 0m 22s (remain 4m 28s) Loss: 7.1165(7.1165) Grad: 0.0138 LR: 0.000505  \n",
      "Epoch: [18][12/13] Elapsed 0m 38s (remain 0m 0s) Loss: 7.1161(7.1189) Grad: 0.0033 LR: 0.000505  \n",
      "EVAL: [0/2] Elapsed 0m 9s (remain 0m 9s) Loss: 7.1102(7.1102) \n",
      "EVAL: [1/2] Elapsed 0m 9s (remain 0m 0s) Loss: 7.1150(7.1121) \n"
     ]
    },
    {
     "name": "stderr",
     "output_type": "stream",
     "text": [
      "Epoch 18 - avg_train_loss: 7.1189  avg_val_loss: 7.1121  time: 49s\n"
     ]
    },
    {
     "name": "stdout",
     "output_type": "stream",
     "text": [
      "Epoch: [19][0/13] Elapsed 0m 21s (remain 4m 22s) Loss: 7.1161(7.1161) Grad: 0.0052 LR: 0.001000  \n",
      "Epoch: [19][12/13] Elapsed 0m 38s (remain 0m 0s) Loss: 7.1160(7.1171) Grad: 0.0052 LR: 0.001000  \n",
      "EVAL: [0/2] Elapsed 0m 10s (remain 0m 10s) Loss: 7.1112(7.1112) \n",
      "EVAL: [1/2] Elapsed 0m 10s (remain 0m 0s) Loss: 7.1105(7.1109) \n"
     ]
    },
    {
     "name": "stderr",
     "output_type": "stream",
     "text": [
      "Epoch 19 - avg_train_loss: 7.1171  avg_val_loss: 7.1109  time: 50s\n"
     ]
    },
    {
     "name": "stdout",
     "output_type": "stream",
     "text": [
      "Epoch: [20][0/13] Elapsed 0m 22s (remain 4m 24s) Loss: 7.1161(7.1161) Grad: 0.0026 LR: 0.000505  \n",
      "Epoch: [20][12/13] Elapsed 0m 38s (remain 0m 0s) Loss: 7.1165(7.1210) Grad: 0.0596 LR: 0.000505  \n",
      "EVAL: [0/2] Elapsed 0m 9s (remain 0m 9s) Loss: 7.1246(7.1246) \n",
      "EVAL: [1/2] Elapsed 0m 10s (remain 0m 0s) Loss: 7.1264(7.1254) \n"
     ]
    },
    {
     "name": "stderr",
     "output_type": "stream",
     "text": [
      "Epoch 20 - avg_train_loss: 7.1210  avg_val_loss: 7.1254  time: 49s\n",
      "========== fold: 1 result ==========\n",
      "========== fold: 2 training ==========\n"
     ]
    },
    {
     "name": "stdout",
     "output_type": "stream",
     "text": [
      "Building Model Backbone for resnet50d model\n",
      "Epoch: [1][0/13] Elapsed 0m 22s (remain 4m 34s) Loss: 7.5926(7.5926) Grad: 0.1508 LR: 0.001000  \n",
      "Epoch: [1][12/13] Elapsed 0m 38s (remain 0m 0s) Loss: 7.5647(7.5815) Grad: 0.1558 LR: 0.001000  \n",
      "EVAL: [0/2] Elapsed 0m 10s (remain 0m 10s) Loss: 7.6143(7.6143) \n",
      "EVAL: [1/2] Elapsed 0m 10s (remain 0m 0s) Loss: 7.6193(7.6163) \n"
     ]
    },
    {
     "name": "stderr",
     "output_type": "stream",
     "text": [
      "Epoch 1 - avg_train_loss: 7.5815  avg_val_loss: 7.6163  time: 50s\n",
      "Epoch 1 - Save Best Loss: 7.6163 Model\n"
     ]
    },
    {
     "name": "stdout",
     "output_type": "stream",
     "text": [
      "Epoch: [2][0/13] Elapsed 0m 23s (remain 4m 47s) Loss: 7.5330(7.5330) Grad: 0.1312 LR: 0.000505  \n",
      "Epoch: [2][12/13] Elapsed 0m 38s (remain 0m 0s) Loss: 7.4320(7.4873) Grad: 0.0777 LR: 0.000505  \n",
      "EVAL: [0/2] Elapsed 0m 10s (remain 0m 10s) Loss: 7.4371(7.4371) \n",
      "EVAL: [1/2] Elapsed 0m 10s (remain 0m 0s) Loss: 7.4323(7.4351) \n"
     ]
    },
    {
     "name": "stderr",
     "output_type": "stream",
     "text": [
      "Epoch 2 - avg_train_loss: 7.4873  avg_val_loss: 7.4351  time: 50s\n",
      "Epoch 2 - Save Best Loss: 7.4351 Model\n"
     ]
    },
    {
     "name": "stdout",
     "output_type": "stream",
     "text": [
      "Epoch: [3][0/13] Elapsed 0m 22s (remain 4m 31s) Loss: 7.4187(7.4187) Grad: 0.0958 LR: 0.001000  \n",
      "Epoch: [3][12/13] Elapsed 0m 38s (remain 0m 0s) Loss: 7.3158(7.3442) Grad: 1.0263 LR: 0.001000  \n",
      "EVAL: [0/2] Elapsed 0m 10s (remain 0m 10s) Loss: 7.2684(7.2684) \n",
      "EVAL: [1/2] Elapsed 0m 10s (remain 0m 0s) Loss: 7.2632(7.2663) \n"
     ]
    },
    {
     "name": "stderr",
     "output_type": "stream",
     "text": [
      "Epoch 3 - avg_train_loss: 7.3442  avg_val_loss: 7.2663  time: 50s\n",
      "Epoch 3 - Save Best Loss: 7.2663 Model\n"
     ]
    },
    {
     "name": "stdout",
     "output_type": "stream",
     "text": [
      "Epoch: [4][0/13] Elapsed 0m 22s (remain 4m 35s) Loss: 7.2537(7.2537) Grad: 0.1062 LR: 0.000505  \n",
      "Epoch: [4][12/13] Elapsed 0m 38s (remain 0m 0s) Loss: 7.2200(7.2434) Grad: 0.0659 LR: 0.000505  \n",
      "EVAL: [0/2] Elapsed 0m 10s (remain 0m 10s) Loss: 7.2318(7.2318) \n",
      "EVAL: [1/2] Elapsed 0m 10s (remain 0m 0s) Loss: 7.2227(7.2282) \n"
     ]
    },
    {
     "name": "stderr",
     "output_type": "stream",
     "text": [
      "Epoch 4 - avg_train_loss: 7.2434  avg_val_loss: 7.2282  time: 50s\n",
      "Epoch 4 - Save Best Loss: 7.2282 Model\n"
     ]
    },
    {
     "name": "stdout",
     "output_type": "stream",
     "text": [
      "Epoch: [5][0/13] Elapsed 0m 24s (remain 4m 52s) Loss: 7.2163(7.2163) Grad: 0.0426 LR: 0.001000  \n",
      "Epoch: [5][12/13] Elapsed 0m 39s (remain 0m 0s) Loss: 7.1665(7.1908) Grad: 0.0272 LR: 0.001000  \n",
      "EVAL: [0/2] Elapsed 0m 10s (remain 0m 10s) Loss: 7.2211(7.2211) \n",
      "EVAL: [1/2] Elapsed 0m 10s (remain 0m 0s) Loss: 7.2023(7.2135) \n"
     ]
    },
    {
     "name": "stderr",
     "output_type": "stream",
     "text": [
      "Epoch 5 - avg_train_loss: 7.1908  avg_val_loss: 7.2135  time: 50s\n",
      "Epoch 5 - Save Best Loss: 7.2135 Model\n"
     ]
    },
    {
     "name": "stdout",
     "output_type": "stream",
     "text": [
      "Epoch: [6][0/13] Elapsed 0m 24s (remain 4m 49s) Loss: 7.1675(7.1675) Grad: 0.0308 LR: 0.000505  \n",
      "Epoch: [6][12/13] Elapsed 0m 38s (remain 0m 0s) Loss: 7.1481(7.1557) Grad: 0.1327 LR: 0.000505  \n",
      "EVAL: [0/2] Elapsed 0m 9s (remain 0m 9s) Loss: 7.1481(7.1481) \n",
      "EVAL: [1/2] Elapsed 0m 10s (remain 0m 0s) Loss: 7.1440(7.1465) \n"
     ]
    },
    {
     "name": "stderr",
     "output_type": "stream",
     "text": [
      "Epoch 6 - avg_train_loss: 7.1557  avg_val_loss: 7.1465  time: 49s\n",
      "Epoch 6 - Save Best Loss: 7.1465 Model\n"
     ]
    },
    {
     "name": "stdout",
     "output_type": "stream",
     "text": [
      "Epoch: [7][0/13] Elapsed 0m 22s (remain 4m 26s) Loss: 7.1600(7.1600) Grad: 0.0637 LR: 0.001000  \n",
      "Epoch: [7][12/13] Elapsed 0m 38s (remain 0m 0s) Loss: 7.1436(7.1461) Grad: 0.3431 LR: 0.001000  \n",
      "EVAL: [0/2] Elapsed 0m 10s (remain 0m 10s) Loss: 7.1777(7.1777) \n",
      "EVAL: [1/2] Elapsed 0m 10s (remain 0m 0s) Loss: 7.1684(7.1739) \n"
     ]
    },
    {
     "name": "stderr",
     "output_type": "stream",
     "text": [
      "Epoch 7 - avg_train_loss: 7.1461  avg_val_loss: 7.1739  time: 50s\n"
     ]
    },
    {
     "name": "stdout",
     "output_type": "stream",
     "text": [
      "Epoch: [8][0/13] Elapsed 0m 22s (remain 4m 30s) Loss: 7.1582(7.1582) Grad: 0.3346 LR: 0.000505  \n",
      "Epoch: [8][12/13] Elapsed 0m 39s (remain 0m 0s) Loss: 7.1338(7.1359) Grad: 0.0200 LR: 0.000505  \n",
      "EVAL: [0/2] Elapsed 0m 9s (remain 0m 9s) Loss: 7.1384(7.1384) \n",
      "EVAL: [1/2] Elapsed 0m 10s (remain 0m 0s) Loss: 7.1413(7.1396) \n"
     ]
    },
    {
     "name": "stderr",
     "output_type": "stream",
     "text": [
      "Epoch 8 - avg_train_loss: 7.1359  avg_val_loss: 7.1396  time: 50s\n",
      "Epoch 8 - Save Best Loss: 7.1396 Model\n"
     ]
    },
    {
     "name": "stdout",
     "output_type": "stream",
     "text": [
      "Epoch: [9][0/13] Elapsed 0m 22s (remain 4m 29s) Loss: 7.1392(7.1392) Grad: 0.6736 LR: 0.001000  \n",
      "Epoch: [9][12/13] Elapsed 0m 38s (remain 0m 0s) Loss: 7.1634(7.1425) Grad: 1.4053 LR: 0.001000  \n",
      "EVAL: [0/2] Elapsed 0m 10s (remain 0m 10s) Loss: 7.1205(7.1205) \n",
      "EVAL: [1/2] Elapsed 0m 10s (remain 0m 0s) Loss: 7.1169(7.1190) \n"
     ]
    },
    {
     "name": "stderr",
     "output_type": "stream",
     "text": [
      "Epoch 9 - avg_train_loss: 7.1425  avg_val_loss: 7.1190  time: 49s\n",
      "Epoch 9 - Save Best Loss: 7.1190 Model\n"
     ]
    },
    {
     "name": "stdout",
     "output_type": "stream",
     "text": [
      "Epoch: [10][0/13] Elapsed 0m 23s (remain 4m 45s) Loss: 7.1660(7.1660) Grad: 2.7887 LR: 0.000505  \n",
      "Epoch: [10][12/13] Elapsed 0m 38s (remain 0m 0s) Loss: 7.1891(7.1849) Grad: 1.4804 LR: 0.000505  \n",
      "EVAL: [0/2] Elapsed 0m 9s (remain 0m 9s) Loss: 7.2589(7.2589) \n",
      "EVAL: [1/2] Elapsed 0m 9s (remain 0m 0s) Loss: 7.2619(7.2601) \n"
     ]
    },
    {
     "name": "stderr",
     "output_type": "stream",
     "text": [
      "Epoch 10 - avg_train_loss: 7.1849  avg_val_loss: 7.2601  time: 49s\n"
     ]
    },
    {
     "name": "stdout",
     "output_type": "stream",
     "text": [
      "Epoch: [11][0/13] Elapsed 0m 21s (remain 4m 23s) Loss: 7.1939(7.1939) Grad: 0.0879 LR: 0.001000  \n",
      "Epoch: [11][12/13] Elapsed 0m 39s (remain 0m 0s) Loss: 7.1688(7.1494) Grad: 12.7061 LR: 0.001000  \n",
      "EVAL: [0/2] Elapsed 0m 10s (remain 0m 10s) Loss: 7.1138(7.1138) \n",
      "EVAL: [1/2] Elapsed 0m 10s (remain 0m 0s) Loss: 7.1121(7.1131) \n"
     ]
    },
    {
     "name": "stderr",
     "output_type": "stream",
     "text": [
      "Epoch 11 - avg_train_loss: 7.1494  avg_val_loss: 7.1131  time: 50s\n",
      "Epoch 11 - Save Best Loss: 7.1131 Model\n"
     ]
    },
    {
     "name": "stdout",
     "output_type": "stream",
     "text": [
      "Epoch: [12][0/13] Elapsed 0m 23s (remain 4m 46s) Loss: 7.1608(7.1608) Grad: 19.2261 LR: 0.000505  \n",
      "Epoch: [12][12/13] Elapsed 0m 38s (remain 0m 0s) Loss: 7.1275(7.1444) Grad: 0.0992 LR: 0.000505  \n",
      "EVAL: [0/2] Elapsed 0m 10s (remain 0m 10s) Loss: 7.7940(7.7940) \n",
      "EVAL: [1/2] Elapsed 0m 10s (remain 0m 0s) Loss: 7.8521(7.8175) \n"
     ]
    },
    {
     "name": "stderr",
     "output_type": "stream",
     "text": [
      "Epoch 12 - avg_train_loss: 7.1444  avg_val_loss: 7.8175  time: 49s\n"
     ]
    },
    {
     "name": "stdout",
     "output_type": "stream",
     "text": [
      "Epoch: [13][0/13] Elapsed 0m 20s (remain 4m 10s) Loss: 7.1291(7.1291) Grad: 0.6478 LR: 0.001000  \n",
      "Epoch: [13][12/13] Elapsed 0m 39s (remain 0m 0s) Loss: 7.1203(7.1293) Grad: 0.5451 LR: 0.001000  \n",
      "EVAL: [0/2] Elapsed 0m 10s (remain 0m 10s) Loss: 7.1316(7.1316) \n",
      "EVAL: [1/2] Elapsed 0m 10s (remain 0m 0s) Loss: 7.1265(7.1296) \n"
     ]
    },
    {
     "name": "stderr",
     "output_type": "stream",
     "text": [
      "Epoch 13 - avg_train_loss: 7.1293  avg_val_loss: 7.1296  time: 50s\n"
     ]
    },
    {
     "name": "stdout",
     "output_type": "stream",
     "text": [
      "Epoch: [14][0/13] Elapsed 0m 21s (remain 4m 13s) Loss: 7.1275(7.1275) Grad: 0.1239 LR: 0.000505  \n",
      "Epoch: [14][12/13] Elapsed 0m 38s (remain 0m 0s) Loss: 7.1196(7.1232) Grad: 0.3607 LR: 0.000505  \n",
      "EVAL: [0/2] Elapsed 0m 9s (remain 0m 9s) Loss: 7.1187(7.1187) \n",
      "EVAL: [1/2] Elapsed 0m 10s (remain 0m 0s) Loss: 7.1160(7.1176) \n"
     ]
    },
    {
     "name": "stderr",
     "output_type": "stream",
     "text": [
      "Epoch 14 - avg_train_loss: 7.1232  avg_val_loss: 7.1176  time: 49s\n"
     ]
    },
    {
     "name": "stdout",
     "output_type": "stream",
     "text": [
      "Epoch: [15][0/13] Elapsed 0m 22s (remain 4m 25s) Loss: 7.1180(7.1180) Grad: 0.0190 LR: 0.001000  \n",
      "Epoch: [15][12/13] Elapsed 0m 39s (remain 0m 0s) Loss: 7.1176(7.1201) Grad: 0.0073 LR: 0.001000  \n",
      "EVAL: [0/2] Elapsed 0m 10s (remain 0m 10s) Loss: 7.1091(7.1091) \n",
      "EVAL: [1/2] Elapsed 0m 10s (remain 0m 0s) Loss: 7.1092(7.1091) \n"
     ]
    },
    {
     "name": "stderr",
     "output_type": "stream",
     "text": [
      "Epoch 15 - avg_train_loss: 7.1201  avg_val_loss: 7.1091  time: 50s\n",
      "Epoch 15 - Save Best Loss: 7.1091 Model\n"
     ]
    },
    {
     "name": "stdout",
     "output_type": "stream",
     "text": [
      "Epoch: [16][0/13] Elapsed 0m 22s (remain 4m 26s) Loss: 7.1256(7.1256) Grad: 0.0214 LR: 0.000505  \n",
      "Epoch: [16][12/13] Elapsed 0m 38s (remain 0m 0s) Loss: 7.1164(7.1233) Grad: 0.0057 LR: 0.000505  \n",
      "EVAL: [0/2] Elapsed 0m 10s (remain 0m 10s) Loss: 7.1127(7.1127) \n",
      "EVAL: [1/2] Elapsed 0m 10s (remain 0m 0s) Loss: 7.1212(7.1161) \n"
     ]
    },
    {
     "name": "stderr",
     "output_type": "stream",
     "text": [
      "Epoch 16 - avg_train_loss: 7.1233  avg_val_loss: 7.1161  time: 49s\n"
     ]
    },
    {
     "name": "stdout",
     "output_type": "stream",
     "text": [
      "Epoch: [17][0/13] Elapsed 0m 23s (remain 4m 45s) Loss: 7.1333(7.1333) Grad: 0.2701 LR: 0.001000  \n",
      "Epoch: [17][12/13] Elapsed 0m 39s (remain 0m 0s) Loss: 7.1220(7.1281) Grad: 0.6647 LR: 0.001000  \n",
      "EVAL: [0/2] Elapsed 0m 10s (remain 0m 10s) Loss: 7.1882(7.1882) \n",
      "EVAL: [1/2] Elapsed 0m 10s (remain 0m 0s) Loss: 7.1709(7.1812) \n"
     ]
    },
    {
     "name": "stderr",
     "output_type": "stream",
     "text": [
      "Epoch 17 - avg_train_loss: 7.1281  avg_val_loss: 7.1812  time: 51s\n"
     ]
    },
    {
     "name": "stdout",
     "output_type": "stream",
     "text": [
      "Epoch: [18][0/13] Elapsed 0m 25s (remain 5m 8s) Loss: 7.1270(7.1270) Grad: 0.4407 LR: 0.000505  \n",
      "Epoch: [18][12/13] Elapsed 0m 39s (remain 0m 0s) Loss: 7.1179(7.1243) Grad: 0.1447 LR: 0.000505  \n",
      "EVAL: [0/2] Elapsed 0m 10s (remain 0m 10s) Loss: 7.1089(7.1089) \n",
      "EVAL: [1/2] Elapsed 0m 10s (remain 0m 0s) Loss: 7.1087(7.1088) \n"
     ]
    },
    {
     "name": "stderr",
     "output_type": "stream",
     "text": [
      "Epoch 18 - avg_train_loss: 7.1243  avg_val_loss: 7.1088  time: 50s\n",
      "Epoch 18 - Save Best Loss: 7.1088 Model\n"
     ]
    },
    {
     "name": "stdout",
     "output_type": "stream",
     "text": [
      "Epoch: [19][0/13] Elapsed 0m 24s (remain 4m 56s) Loss: 7.1270(7.1270) Grad: 0.1257 LR: 0.001000  \n",
      "Epoch: [19][12/13] Elapsed 0m 39s (remain 0m 0s) Loss: 7.1198(7.1235) Grad: 2.1360 LR: 0.001000  \n",
      "EVAL: [0/2] Elapsed 0m 10s (remain 0m 10s) Loss: 7.1086(7.1086) \n",
      "EVAL: [1/2] Elapsed 0m 10s (remain 0m 0s) Loss: 7.1084(7.1085) \n"
     ]
    },
    {
     "name": "stderr",
     "output_type": "stream",
     "text": [
      "Epoch 19 - avg_train_loss: 7.1235  avg_val_loss: 7.1085  time: 50s\n",
      "Epoch 19 - Save Best Loss: 7.1085 Model\n"
     ]
    },
    {
     "name": "stdout",
     "output_type": "stream",
     "text": [
      "Epoch: [20][0/13] Elapsed 0m 25s (remain 5m 5s) Loss: 7.9749(7.9749) Grad: 3.3125 LR: 0.000505  \n",
      "Epoch: [20][12/13] Elapsed 0m 39s (remain 0m 0s) Loss: 7.1165(7.1971) Grad: 0.0057 LR: 0.000505  \n",
      "EVAL: [0/2] Elapsed 0m 10s (remain 0m 10s) Loss: 7.1593(7.1593) \n",
      "EVAL: [1/2] Elapsed 0m 10s (remain 0m 0s) Loss: 7.1825(7.1687) \n"
     ]
    },
    {
     "name": "stderr",
     "output_type": "stream",
     "text": [
      "Epoch 20 - avg_train_loss: 7.1971  avg_val_loss: 7.1687  time: 51s\n",
      "========== fold: 2 result ==========\n",
      "========== fold: 3 training ==========\n"
     ]
    },
    {
     "name": "stdout",
     "output_type": "stream",
     "text": [
      "Building Model Backbone for resnet50d model\n",
      "Epoch: [1][0/13] Elapsed 0m 25s (remain 5m 2s) Loss: 7.5944(7.5944) Grad: 0.1573 LR: 0.001000  \n",
      "Epoch: [1][12/13] Elapsed 0m 40s (remain 0m 0s) Loss: 7.5665(7.5819) Grad: 0.1551 LR: 0.001000  \n",
      "EVAL: [0/2] Elapsed 0m 9s (remain 0m 9s) Loss: 7.6401(7.6401) \n",
      "EVAL: [1/2] Elapsed 0m 9s (remain 0m 0s) Loss: 7.6375(7.6390) \n"
     ]
    },
    {
     "name": "stderr",
     "output_type": "stream",
     "text": [
      "Epoch 1 - avg_train_loss: 7.5819  avg_val_loss: 7.6390  time: 50s\n",
      "Epoch 1 - Save Best Loss: 7.6390 Model\n"
     ]
    },
    {
     "name": "stdout",
     "output_type": "stream",
     "text": [
      "Epoch: [2][0/13] Elapsed 0m 23s (remain 4m 38s) Loss: 7.5272(7.5272) Grad: 0.1315 LR: 0.000505  \n",
      "Epoch: [2][12/13] Elapsed 0m 39s (remain 0m 0s) Loss: 7.4348(7.4904) Grad: 0.0967 LR: 0.000505  \n",
      "EVAL: [0/2] Elapsed 0m 9s (remain 0m 9s) Loss: 7.4819(7.4819) \n",
      "EVAL: [1/2] Elapsed 0m 10s (remain 0m 0s) Loss: 7.4771(7.4800) \n"
     ]
    },
    {
     "name": "stderr",
     "output_type": "stream",
     "text": [
      "Epoch 2 - avg_train_loss: 7.4904  avg_val_loss: 7.4800  time: 50s\n",
      "Epoch 2 - Save Best Loss: 7.4800 Model\n"
     ]
    },
    {
     "name": "stdout",
     "output_type": "stream",
     "text": [
      "Epoch: [3][0/13] Elapsed 0m 19s (remain 3m 56s) Loss: 7.4221(7.4221) Grad: 0.0726 LR: 0.001000  \n",
      "Epoch: [3][12/13] Elapsed 0m 40s (remain 0m 0s) Loss: 7.2881(7.3546) Grad: 0.3232 LR: 0.001000  \n",
      "EVAL: [0/2] Elapsed 0m 9s (remain 0m 9s) Loss: 7.2962(7.2962) \n",
      "EVAL: [1/2] Elapsed 0m 9s (remain 0m 0s) Loss: 7.2959(7.2961) \n"
     ]
    },
    {
     "name": "stderr",
     "output_type": "stream",
     "text": [
      "Epoch 3 - avg_train_loss: 7.3546  avg_val_loss: 7.2961  time: 50s\n",
      "Epoch 3 - Save Best Loss: 7.2961 Model\n"
     ]
    },
    {
     "name": "stdout",
     "output_type": "stream",
     "text": [
      "Epoch: [4][0/13] Elapsed 0m 24s (remain 4m 50s) Loss: 7.2745(7.2745) Grad: 0.1013 LR: 0.000505  \n",
      "Epoch: [4][12/13] Elapsed 0m 39s (remain 0m 0s) Loss: 7.2259(7.2488) Grad: 0.0431 LR: 0.000505  \n",
      "EVAL: [0/2] Elapsed 0m 9s (remain 0m 9s) Loss: 7.2181(7.2181) \n",
      "EVAL: [1/2] Elapsed 0m 9s (remain 0m 0s) Loss: 7.2216(7.2196) \n"
     ]
    },
    {
     "name": "stderr",
     "output_type": "stream",
     "text": [
      "Epoch 4 - avg_train_loss: 7.2488  avg_val_loss: 7.2196  time: 50s\n",
      "Epoch 4 - Save Best Loss: 7.2196 Model\n"
     ]
    },
    {
     "name": "stdout",
     "output_type": "stream",
     "text": [
      "Epoch: [5][0/13] Elapsed 0m 24s (remain 4m 52s) Loss: 7.2269(7.2269) Grad: 0.3148 LR: 0.001000  \n",
      "Epoch: [5][12/13] Elapsed 0m 39s (remain 0m 0s) Loss: 7.1774(7.1996) Grad: 0.0366 LR: 0.001000  \n",
      "EVAL: [0/2] Elapsed 0m 9s (remain 0m 9s) Loss: 7.2565(7.2565) \n",
      "EVAL: [1/2] Elapsed 0m 9s (remain 0m 0s) Loss: 7.2435(7.2512) \n"
     ]
    },
    {
     "name": "stderr",
     "output_type": "stream",
     "text": [
      "Epoch 5 - avg_train_loss: 7.1996  avg_val_loss: 7.2512  time: 49s\n"
     ]
    },
    {
     "name": "stdout",
     "output_type": "stream",
     "text": [
      "Epoch: [6][0/13] Elapsed 0m 25s (remain 5m 4s) Loss: 7.1605(7.1605) Grad: 0.0379 LR: 0.000505  \n",
      "Epoch: [6][12/13] Elapsed 0m 40s (remain 0m 0s) Loss: 7.1544(7.1606) Grad: 0.1384 LR: 0.000505  \n",
      "EVAL: [0/2] Elapsed 0m 9s (remain 0m 9s) Loss: 7.1547(7.1547) \n",
      "EVAL: [1/2] Elapsed 0m 9s (remain 0m 0s) Loss: 7.1561(7.1552) \n"
     ]
    },
    {
     "name": "stderr",
     "output_type": "stream",
     "text": [
      "Epoch 6 - avg_train_loss: 7.1606  avg_val_loss: 7.1552  time: 50s\n",
      "Epoch 6 - Save Best Loss: 7.1552 Model\n"
     ]
    },
    {
     "name": "stdout",
     "output_type": "stream",
     "text": [
      "Epoch: [7][0/13] Elapsed 0m 22s (remain 4m 34s) Loss: 7.1528(7.1528) Grad: 0.0263 LR: 0.001000  \n",
      "Epoch: [7][12/13] Elapsed 0m 39s (remain 0m 0s) Loss: 7.1416(7.1429) Grad: 0.0391 LR: 0.001000  \n",
      "EVAL: [0/2] Elapsed 0m 9s (remain 0m 9s) Loss: 7.1296(7.1296) \n",
      "EVAL: [1/2] Elapsed 0m 9s (remain 0m 0s) Loss: 7.1296(7.1296) \n"
     ]
    },
    {
     "name": "stderr",
     "output_type": "stream",
     "text": [
      "Epoch 7 - avg_train_loss: 7.1429  avg_val_loss: 7.1296  time: 49s\n",
      "Epoch 7 - Save Best Loss: 7.1296 Model\n"
     ]
    },
    {
     "name": "stdout",
     "output_type": "stream",
     "text": [
      "Epoch: [8][0/13] Elapsed 0m 24s (remain 4m 52s) Loss: 7.1309(7.1309) Grad: 0.0205 LR: 0.000505  \n",
      "Epoch: [8][12/13] Elapsed 0m 39s (remain 0m 0s) Loss: 7.1286(7.1318) Grad: 0.0161 LR: 0.000505  \n",
      "EVAL: [0/2] Elapsed 0m 9s (remain 0m 9s) Loss: 7.1269(7.1269) \n",
      "EVAL: [1/2] Elapsed 0m 10s (remain 0m 0s) Loss: 7.1264(7.1267) \n"
     ]
    },
    {
     "name": "stderr",
     "output_type": "stream",
     "text": [
      "Epoch 8 - avg_train_loss: 7.1318  avg_val_loss: 7.1267  time: 50s\n",
      "Epoch 8 - Save Best Loss: 7.1267 Model\n"
     ]
    },
    {
     "name": "stdout",
     "output_type": "stream",
     "text": [
      "Epoch: [9][0/13] Elapsed 0m 21s (remain 4m 16s) Loss: 7.1211(7.1211) Grad: 0.0139 LR: 0.001000  \n",
      "Epoch: [9][12/13] Elapsed 0m 38s (remain 0m 0s) Loss: 7.1180(7.1246) Grad: 0.0117 LR: 0.001000  \n",
      "EVAL: [0/2] Elapsed 0m 9s (remain 0m 9s) Loss: 7.1170(7.1170) \n",
      "EVAL: [1/2] Elapsed 0m 9s (remain 0m 0s) Loss: 7.1160(7.1166) \n"
     ]
    },
    {
     "name": "stderr",
     "output_type": "stream",
     "text": [
      "Epoch 9 - avg_train_loss: 7.1246  avg_val_loss: 7.1166  time: 49s\n",
      "Epoch 9 - Save Best Loss: 7.1166 Model\n"
     ]
    },
    {
     "name": "stdout",
     "output_type": "stream",
     "text": [
      "Epoch: [10][0/13] Elapsed 0m 23s (remain 4m 45s) Loss: 7.1267(7.1267) Grad: 0.0153 LR: 0.000505  \n",
      "Epoch: [10][12/13] Elapsed 0m 39s (remain 0m 0s) Loss: 7.1273(7.1226) Grad: 0.0442 LR: 0.000505  \n",
      "EVAL: [0/2] Elapsed 0m 9s (remain 0m 9s) Loss: 7.2468(7.2468) \n",
      "EVAL: [1/2] Elapsed 0m 9s (remain 0m 0s) Loss: 7.2370(7.2428) \n"
     ]
    },
    {
     "name": "stderr",
     "output_type": "stream",
     "text": [
      "Epoch 10 - avg_train_loss: 7.1226  avg_val_loss: 7.2428  time: 50s\n"
     ]
    },
    {
     "name": "stdout",
     "output_type": "stream",
     "text": [
      "Epoch: [11][0/13] Elapsed 0m 22s (remain 4m 32s) Loss: 7.1201(7.1201) Grad: 0.0157 LR: 0.001000  \n",
      "Epoch: [11][12/13] Elapsed 0m 40s (remain 0m 0s) Loss: 7.1184(7.1222) Grad: 0.0091 LR: 0.001000  \n",
      "EVAL: [0/2] Elapsed 0m 9s (remain 0m 9s) Loss: 7.1190(7.1190) \n",
      "EVAL: [1/2] Elapsed 0m 9s (remain 0m 0s) Loss: 7.1281(7.1226) \n"
     ]
    },
    {
     "name": "stderr",
     "output_type": "stream",
     "text": [
      "Epoch 11 - avg_train_loss: 7.1222  avg_val_loss: 7.1226  time: 50s\n"
     ]
    },
    {
     "name": "stdout",
     "output_type": "stream",
     "text": [
      "Epoch: [12][0/13] Elapsed 0m 23s (remain 4m 38s) Loss: 7.1172(7.1172) Grad: 0.0085 LR: 0.000505  \n",
      "Epoch: [12][12/13] Elapsed 0m 40s (remain 0m 0s) Loss: 7.1274(7.1220) Grad: 0.6844 LR: 0.000505  \n",
      "EVAL: [0/2] Elapsed 0m 10s (remain 0m 10s) Loss: 7.1144(7.1144) \n",
      "EVAL: [1/2] Elapsed 0m 10s (remain 0m 0s) Loss: 7.1124(7.1136) \n"
     ]
    },
    {
     "name": "stderr",
     "output_type": "stream",
     "text": [
      "Epoch 12 - avg_train_loss: 7.1220  avg_val_loss: 7.1136  time: 51s\n",
      "Epoch 12 - Save Best Loss: 7.1136 Model\n"
     ]
    },
    {
     "name": "stdout",
     "output_type": "stream",
     "text": [
      "Epoch: [13][0/13] Elapsed 0m 25s (remain 5m 8s) Loss: 7.1229(7.1229) Grad: 0.0182 LR: 0.001000  \n",
      "Epoch: [13][12/13] Elapsed 0m 39s (remain 0m 0s) Loss: 7.1276(7.1279) Grad: 0.1337 LR: 0.001000  \n",
      "EVAL: [0/2] Elapsed 0m 9s (remain 0m 9s) Loss: 7.1566(7.1566) \n",
      "EVAL: [1/2] Elapsed 0m 9s (remain 0m 0s) Loss: 7.1501(7.1540) \n"
     ]
    },
    {
     "name": "stderr",
     "output_type": "stream",
     "text": [
      "Epoch 13 - avg_train_loss: 7.1279  avg_val_loss: 7.1540  time: 49s\n"
     ]
    },
    {
     "name": "stdout",
     "output_type": "stream",
     "text": [
      "Epoch: [14][0/13] Elapsed 0m 23s (remain 4m 39s) Loss: 7.1340(7.1340) Grad: 0.0194 LR: 0.000505  \n",
      "Epoch: [14][12/13] Elapsed 0m 40s (remain 0m 0s) Loss: 7.1290(7.1318) Grad: 0.3538 LR: 0.000505  \n",
      "EVAL: [0/2] Elapsed 0m 9s (remain 0m 9s) Loss: 7.7841(7.7841) \n",
      "EVAL: [1/2] Elapsed 0m 9s (remain 0m 0s) Loss: 7.8012(7.7910) \n"
     ]
    },
    {
     "name": "stderr",
     "output_type": "stream",
     "text": [
      "Epoch 14 - avg_train_loss: 7.1318  avg_val_loss: 7.7910  time: 51s\n"
     ]
    },
    {
     "name": "stdout",
     "output_type": "stream",
     "text": [
      "Epoch: [15][0/13] Elapsed 0m 22s (remain 4m 32s) Loss: 7.1183(7.1183) Grad: 0.0142 LR: 0.001000  \n",
      "Epoch: [15][12/13] Elapsed 0m 39s (remain 0m 0s) Loss: 7.1239(7.1205) Grad: 0.4709 LR: 0.001000  \n",
      "EVAL: [0/2] Elapsed 0m 9s (remain 0m 9s) Loss: 7.3174(7.3174) \n",
      "EVAL: [1/2] Elapsed 0m 9s (remain 0m 0s) Loss: 7.3370(7.3253) \n"
     ]
    },
    {
     "name": "stderr",
     "output_type": "stream",
     "text": [
      "Epoch 15 - avg_train_loss: 7.1205  avg_val_loss: 7.3253  time: 49s\n"
     ]
    },
    {
     "name": "stdout",
     "output_type": "stream",
     "text": [
      "Epoch: [16][0/13] Elapsed 0m 22s (remain 4m 28s) Loss: 7.1253(7.1253) Grad: 0.0259 LR: 0.000505  \n",
      "Epoch: [16][12/13] Elapsed 0m 39s (remain 0m 0s) Loss: 7.1262(7.1211) Grad: 0.0197 LR: 0.000505  \n",
      "EVAL: [0/2] Elapsed 0m 9s (remain 0m 9s) Loss: 7.1596(7.1596) \n",
      "EVAL: [1/2] Elapsed 0m 9s (remain 0m 0s) Loss: 7.1636(7.1612) \n"
     ]
    },
    {
     "name": "stderr",
     "output_type": "stream",
     "text": [
      "Epoch 16 - avg_train_loss: 7.1211  avg_val_loss: 7.1612  time: 50s\n"
     ]
    },
    {
     "name": "stdout",
     "output_type": "stream",
     "text": [
      "Epoch: [17][0/13] Elapsed 0m 25s (remain 5m 0s) Loss: 7.1174(7.1174) Grad: 0.0061 LR: 0.001000  \n",
      "Epoch: [17][12/13] Elapsed 0m 39s (remain 0m 0s) Loss: 7.1171(7.1204) Grad: 0.0058 LR: 0.001000  \n",
      "EVAL: [0/2] Elapsed 0m 9s (remain 0m 9s) Loss: 7.1387(7.1387) \n",
      "EVAL: [1/2] Elapsed 0m 9s (remain 0m 0s) Loss: 7.1643(7.1490) \n"
     ]
    },
    {
     "name": "stderr",
     "output_type": "stream",
     "text": [
      "Epoch 17 - avg_train_loss: 7.1204  avg_val_loss: 7.1490  time: 50s\n"
     ]
    },
    {
     "name": "stdout",
     "output_type": "stream",
     "text": [
      "Epoch: [18][0/13] Elapsed 0m 22s (remain 4m 31s) Loss: 7.1165(7.1165) Grad: 0.0225 LR: 0.000505  \n",
      "Epoch: [18][12/13] Elapsed 0m 40s (remain 0m 0s) Loss: 7.1164(7.1191) Grad: 0.0047 LR: 0.000505  \n",
      "EVAL: [0/2] Elapsed 0m 9s (remain 0m 9s) Loss: 7.1212(7.1212) \n",
      "EVAL: [1/2] Elapsed 0m 9s (remain 0m 0s) Loss: 7.1265(7.1233) \n"
     ]
    },
    {
     "name": "stderr",
     "output_type": "stream",
     "text": [
      "Epoch 18 - avg_train_loss: 7.1191  avg_val_loss: 7.1233  time: 51s\n"
     ]
    },
    {
     "name": "stdout",
     "output_type": "stream",
     "text": [
      "Epoch: [19][0/13] Elapsed 0m 23s (remain 4m 38s) Loss: 7.1330(7.1330) Grad: 0.1157 LR: 0.001000  \n",
      "Epoch: [19][12/13] Elapsed 0m 39s (remain 0m 0s) Loss: 7.1255(7.1197) Grad: 0.0136 LR: 0.001000  \n",
      "EVAL: [0/2] Elapsed 0m 9s (remain 0m 9s) Loss: 7.1121(7.1121) \n",
      "EVAL: [1/2] Elapsed 0m 9s (remain 0m 0s) Loss: 7.1081(7.1105) \n"
     ]
    },
    {
     "name": "stderr",
     "output_type": "stream",
     "text": [
      "Epoch 19 - avg_train_loss: 7.1197  avg_val_loss: 7.1105  time: 49s\n",
      "Epoch 19 - Save Best Loss: 7.1105 Model\n"
     ]
    },
    {
     "name": "stdout",
     "output_type": "stream",
     "text": [
      "Epoch: [20][0/13] Elapsed 0m 20s (remain 4m 4s) Loss: 7.1251(7.1251) Grad: 0.0162 LR: 0.000505  \n",
      "Epoch: [20][12/13] Elapsed 0m 40s (remain 0m 0s) Loss: 7.1162(7.1202) Grad: 0.0036 LR: 0.000505  \n",
      "EVAL: [0/2] Elapsed 0m 9s (remain 0m 9s) Loss: 7.1153(7.1153) \n",
      "EVAL: [1/2] Elapsed 0m 9s (remain 0m 0s) Loss: 7.1078(7.1122) \n"
     ]
    },
    {
     "name": "stderr",
     "output_type": "stream",
     "text": [
      "Epoch 20 - avg_train_loss: 7.1202  avg_val_loss: 7.1122  time: 50s\n",
      "========== fold: 3 result ==========\n",
      "========== fold: 4 training ==========\n"
     ]
    },
    {
     "name": "stdout",
     "output_type": "stream",
     "text": [
      "Building Model Backbone for resnet50d model\n",
      "Epoch: [1][0/13] Elapsed 0m 21s (remain 4m 23s) Loss: 7.5909(7.5909) Grad: 0.1601 LR: 0.001000  \n",
      "Epoch: [1][12/13] Elapsed 0m 38s (remain 0m 0s) Loss: 7.5655(7.5821) Grad: 0.1455 LR: 0.001000  \n",
      "EVAL: [0/2] Elapsed 0m 9s (remain 0m 9s) Loss: 7.6039(7.6039) \n",
      "EVAL: [1/2] Elapsed 0m 10s (remain 0m 0s) Loss: 7.6049(7.6043) \n"
     ]
    },
    {
     "name": "stderr",
     "output_type": "stream",
     "text": [
      "Epoch 1 - avg_train_loss: 7.5821  avg_val_loss: 7.6043  time: 49s\n",
      "Epoch 1 - Save Best Loss: 7.6043 Model\n"
     ]
    },
    {
     "name": "stdout",
     "output_type": "stream",
     "text": [
      "Epoch: [2][0/13] Elapsed 0m 24s (remain 4m 49s) Loss: 7.5372(7.5372) Grad: 0.1316 LR: 0.000505  \n",
      "Epoch: [2][12/13] Elapsed 0m 38s (remain 0m 0s) Loss: 7.4759(7.5135) Grad: 0.1252 LR: 0.000505  \n",
      "EVAL: [0/2] Elapsed 0m 10s (remain 0m 10s) Loss: 7.5288(7.5288) \n",
      "EVAL: [1/2] Elapsed 0m 10s (remain 0m 0s) Loss: 7.5234(7.5266) \n"
     ]
    },
    {
     "name": "stderr",
     "output_type": "stream",
     "text": [
      "Epoch 2 - avg_train_loss: 7.5135  avg_val_loss: 7.5266  time: 49s\n",
      "Epoch 2 - Save Best Loss: 7.5266 Model\n"
     ]
    },
    {
     "name": "stdout",
     "output_type": "stream",
     "text": [
      "Epoch: [3][0/13] Elapsed 0m 23s (remain 4m 36s) Loss: 7.4566(7.4566) Grad: 0.1002 LR: 0.001000  \n",
      "Epoch: [3][12/13] Elapsed 0m 39s (remain 0m 0s) Loss: 7.3230(7.3777) Grad: 0.0815 LR: 0.001000  \n",
      "EVAL: [0/2] Elapsed 0m 10s (remain 0m 10s) Loss: 7.3378(7.3378) \n",
      "EVAL: [1/2] Elapsed 0m 10s (remain 0m 0s) Loss: 7.3583(7.3461) \n"
     ]
    },
    {
     "name": "stderr",
     "output_type": "stream",
     "text": [
      "Epoch 3 - avg_train_loss: 7.3777  avg_val_loss: 7.3461  time: 50s\n",
      "Epoch 3 - Save Best Loss: 7.3461 Model\n"
     ]
    },
    {
     "name": "stdout",
     "output_type": "stream",
     "text": [
      "Epoch: [4][0/13] Elapsed 0m 23s (remain 4m 38s) Loss: 7.2977(7.2977) Grad: 0.0648 LR: 0.000505  \n",
      "Epoch: [4][12/13] Elapsed 0m 39s (remain 0m 0s) Loss: 7.2293(7.2634) Grad: 0.0544 LR: 0.000505  \n",
      "EVAL: [0/2] Elapsed 0m 9s (remain 0m 9s) Loss: 7.2370(7.2370) \n",
      "EVAL: [1/2] Elapsed 0m 9s (remain 0m 0s) Loss: 7.2236(7.2316) \n"
     ]
    },
    {
     "name": "stderr",
     "output_type": "stream",
     "text": [
      "Epoch 4 - avg_train_loss: 7.2634  avg_val_loss: 7.2316  time: 50s\n",
      "Epoch 4 - Save Best Loss: 7.2316 Model\n"
     ]
    },
    {
     "name": "stdout",
     "output_type": "stream",
     "text": [
      "Epoch: [5][0/13] Elapsed 0m 22s (remain 4m 25s) Loss: 7.2249(7.2249) Grad: 0.0476 LR: 0.001000  \n",
      "Epoch: [5][12/13] Elapsed 0m 39s (remain 0m 0s) Loss: 7.1957(7.2027) Grad: 0.4931 LR: 0.001000  \n",
      "EVAL: [0/2] Elapsed 0m 10s (remain 0m 10s) Loss: 7.8106(7.8106) \n",
      "EVAL: [1/2] Elapsed 0m 10s (remain 0m 0s) Loss: 7.8258(7.8167) \n"
     ]
    },
    {
     "name": "stderr",
     "output_type": "stream",
     "text": [
      "Epoch 5 - avg_train_loss: 7.2027  avg_val_loss: 7.8167  time: 50s\n"
     ]
    },
    {
     "name": "stdout",
     "output_type": "stream",
     "text": [
      "Epoch: [6][0/13] Elapsed 0m 21s (remain 4m 14s) Loss: 7.1811(7.1811) Grad: 0.0372 LR: 0.000505  \n",
      "Epoch: [6][12/13] Elapsed 0m 38s (remain 0m 0s) Loss: 7.1552(7.1669) Grad: 0.0288 LR: 0.000505  \n",
      "EVAL: [0/2] Elapsed 0m 9s (remain 0m 9s) Loss: 7.3617(7.3617) \n",
      "EVAL: [1/2] Elapsed 0m 9s (remain 0m 0s) Loss: 7.3621(7.3619) \n"
     ]
    },
    {
     "name": "stderr",
     "output_type": "stream",
     "text": [
      "Epoch 6 - avg_train_loss: 7.1669  avg_val_loss: 7.3619  time: 49s\n"
     ]
    },
    {
     "name": "stdout",
     "output_type": "stream",
     "text": [
      "Epoch: [7][0/13] Elapsed 0m 24s (remain 4m 50s) Loss: 7.1483(7.1483) Grad: 0.1255 LR: 0.001000  \n",
      "Epoch: [7][12/13] Elapsed 0m 39s (remain 0m 0s) Loss: 7.1367(7.1523) Grad: 0.0409 LR: 0.001000  \n",
      "EVAL: [0/2] Elapsed 0m 10s (remain 0m 10s) Loss: 7.1395(7.1395) \n",
      "EVAL: [1/2] Elapsed 0m 10s (remain 0m 0s) Loss: 7.1470(7.1425) \n"
     ]
    },
    {
     "name": "stderr",
     "output_type": "stream",
     "text": [
      "Epoch 7 - avg_train_loss: 7.1523  avg_val_loss: 7.1425  time: 51s\n",
      "Epoch 7 - Save Best Loss: 7.1425 Model\n"
     ]
    },
    {
     "name": "stdout",
     "output_type": "stream",
     "text": [
      "Epoch: [8][0/13] Elapsed 0m 23s (remain 4m 47s) Loss: 7.1348(7.1348) Grad: 0.0292 LR: 0.000505  \n",
      "Epoch: [8][12/13] Elapsed 0m 38s (remain 0m 0s) Loss: 7.1308(7.1378) Grad: 0.0214 LR: 0.000505  \n",
      "EVAL: [0/2] Elapsed 0m 9s (remain 0m 9s) Loss: 7.5139(7.5139) \n",
      "EVAL: [1/2] Elapsed 0m 9s (remain 0m 0s) Loss: 7.5263(7.5189) \n"
     ]
    },
    {
     "name": "stderr",
     "output_type": "stream",
     "text": [
      "Epoch 8 - avg_train_loss: 7.1378  avg_val_loss: 7.5189  time: 49s\n"
     ]
    },
    {
     "name": "stdout",
     "output_type": "stream",
     "text": [
      "Epoch: [9][0/13] Elapsed 0m 23s (remain 4m 45s) Loss: 7.1268(7.1268) Grad: 0.0179 LR: 0.001000  \n",
      "Epoch: [9][12/13] Elapsed 0m 39s (remain 0m 0s) Loss: 7.1230(7.1282) Grad: 0.0196 LR: 0.001000  \n",
      "EVAL: [0/2] Elapsed 0m 10s (remain 0m 10s) Loss: 7.1726(7.1726) \n",
      "EVAL: [1/2] Elapsed 0m 10s (remain 0m 0s) Loss: 7.1654(7.1697) \n"
     ]
    },
    {
     "name": "stderr",
     "output_type": "stream",
     "text": [
      "Epoch 9 - avg_train_loss: 7.1282  avg_val_loss: 7.1697  time: 50s\n"
     ]
    },
    {
     "name": "stdout",
     "output_type": "stream",
     "text": [
      "Epoch: [10][0/13] Elapsed 0m 19s (remain 3m 50s) Loss: 7.1235(7.1235) Grad: 0.0626 LR: 0.000505  \n",
      "Epoch: [10][12/13] Elapsed 0m 38s (remain 0m 0s) Loss: 7.1289(7.1223) Grad: 0.3291 LR: 0.000505  \n",
      "EVAL: [0/2] Elapsed 0m 9s (remain 0m 9s) Loss: 7.1159(7.1159) \n",
      "EVAL: [1/2] Elapsed 0m 9s (remain 0m 0s) Loss: 7.1129(7.1147) \n"
     ]
    },
    {
     "name": "stderr",
     "output_type": "stream",
     "text": [
      "Epoch 10 - avg_train_loss: 7.1223  avg_val_loss: 7.1147  time: 49s\n",
      "Epoch 10 - Save Best Loss: 7.1147 Model\n"
     ]
    },
    {
     "name": "stdout",
     "output_type": "stream",
     "text": [
      "Epoch: [11][0/13] Elapsed 0m 21s (remain 4m 20s) Loss: 7.1200(7.1200) Grad: 0.0095 LR: 0.001000  \n",
      "Epoch: [11][12/13] Elapsed 0m 39s (remain 0m 0s) Loss: 7.1183(7.1221) Grad: 0.0163 LR: 0.001000  \n",
      "EVAL: [0/2] Elapsed 0m 10s (remain 0m 10s) Loss: 7.1191(7.1191) \n",
      "EVAL: [1/2] Elapsed 0m 10s (remain 0m 0s) Loss: 7.1117(7.1161) \n"
     ]
    },
    {
     "name": "stderr",
     "output_type": "stream",
     "text": [
      "Epoch 11 - avg_train_loss: 7.1221  avg_val_loss: 7.1161  time: 50s\n"
     ]
    },
    {
     "name": "stdout",
     "output_type": "stream",
     "text": [
      "Epoch: [12][0/13] Elapsed 0m 21s (remain 4m 12s) Loss: 7.1180(7.1180) Grad: 0.0098 LR: 0.000505  \n",
      "Epoch: [12][12/13] Elapsed 0m 39s (remain 0m 0s) Loss: 7.1258(7.1191) Grad: 0.0645 LR: 0.000505  \n",
      "EVAL: [0/2] Elapsed 0m 9s (remain 0m 9s) Loss: 7.1259(7.1259) \n",
      "EVAL: [1/2] Elapsed 0m 10s (remain 0m 0s) Loss: 7.1283(7.1269) \n"
     ]
    },
    {
     "name": "stderr",
     "output_type": "stream",
     "text": [
      "Epoch 12 - avg_train_loss: 7.1191  avg_val_loss: 7.1269  time: 50s\n"
     ]
    },
    {
     "name": "stdout",
     "output_type": "stream",
     "text": [
      "Epoch: [13][0/13] Elapsed 0m 25s (remain 5m 4s) Loss: 7.1262(7.1262) Grad: 0.0289 LR: 0.001000  \n",
      "Epoch: [13][12/13] Elapsed 0m 39s (remain 0m 0s) Loss: 7.1170(7.1196) Grad: 0.0063 LR: 0.001000  \n",
      "EVAL: [0/2] Elapsed 0m 10s (remain 0m 10s) Loss: 7.1250(7.1250) \n",
      "EVAL: [1/2] Elapsed 0m 10s (remain 0m 0s) Loss: 7.1270(7.1258) \n"
     ]
    },
    {
     "name": "stderr",
     "output_type": "stream",
     "text": [
      "Epoch 13 - avg_train_loss: 7.1196  avg_val_loss: 7.1258  time: 51s\n"
     ]
    },
    {
     "name": "stdout",
     "output_type": "stream",
     "text": [
      "Epoch: [14][0/13] Elapsed 0m 21s (remain 4m 15s) Loss: 7.1169(7.1169) Grad: 0.0051 LR: 0.000505  \n",
      "Epoch: [14][12/13] Elapsed 0m 38s (remain 0m 0s) Loss: 7.1163(7.1174) Grad: 0.0225 LR: 0.000505  \n",
      "EVAL: [0/2] Elapsed 0m 9s (remain 0m 9s) Loss: 7.1081(7.1081) \n",
      "EVAL: [1/2] Elapsed 0m 10s (remain 0m 0s) Loss: 7.1087(7.1083) \n"
     ]
    },
    {
     "name": "stderr",
     "output_type": "stream",
     "text": [
      "Epoch 14 - avg_train_loss: 7.1174  avg_val_loss: 7.1083  time: 49s\n",
      "Epoch 14 - Save Best Loss: 7.1083 Model\n"
     ]
    },
    {
     "name": "stdout",
     "output_type": "stream",
     "text": [
      "Epoch: [15][0/13] Elapsed 0m 19s (remain 3m 55s) Loss: 7.1166(7.1166) Grad: 0.0041 LR: 0.001000  \n",
      "Epoch: [15][12/13] Elapsed 0m 38s (remain 0m 0s) Loss: 7.1175(7.1208) Grad: 0.0509 LR: 0.001000  \n",
      "EVAL: [0/2] Elapsed 0m 10s (remain 0m 10s) Loss: 7.1106(7.1106) \n",
      "EVAL: [1/2] Elapsed 0m 10s (remain 0m 0s) Loss: 7.1095(7.1101) \n"
     ]
    },
    {
     "name": "stderr",
     "output_type": "stream",
     "text": [
      "Epoch 15 - avg_train_loss: 7.1208  avg_val_loss: 7.1101  time: 50s\n"
     ]
    },
    {
     "name": "stdout",
     "output_type": "stream",
     "text": [
      "Epoch: [16][0/13] Elapsed 0m 20s (remain 4m 4s) Loss: 7.1361(7.1361) Grad: 0.7700 LR: 0.000505  \n",
      "Epoch: [16][12/13] Elapsed 0m 39s (remain 0m 0s) Loss: 7.1252(7.1242) Grad: 0.0413 LR: 0.000505  \n",
      "EVAL: [0/2] Elapsed 0m 9s (remain 0m 9s) Loss: 7.1270(7.1270) \n",
      "EVAL: [1/2] Elapsed 0m 10s (remain 0m 0s) Loss: 7.1322(7.1291) \n"
     ]
    },
    {
     "name": "stderr",
     "output_type": "stream",
     "text": [
      "Epoch 16 - avg_train_loss: 7.1242  avg_val_loss: 7.1291  time: 50s\n"
     ]
    },
    {
     "name": "stdout",
     "output_type": "stream",
     "text": [
      "Epoch: [17][0/13] Elapsed 0m 22s (remain 4m 27s) Loss: 7.1325(7.1325) Grad: 0.6680 LR: 0.001000  \n",
      "Epoch: [17][12/13] Elapsed 0m 39s (remain 0m 0s) Loss: 7.1251(7.1216) Grad: 0.0796 LR: 0.001000  \n",
      "EVAL: [0/2] Elapsed 0m 10s (remain 0m 10s) Loss: 7.1120(7.1120) \n",
      "EVAL: [1/2] Elapsed 0m 10s (remain 0m 0s) Loss: 7.1141(7.1128) \n"
     ]
    },
    {
     "name": "stderr",
     "output_type": "stream",
     "text": [
      "Epoch 17 - avg_train_loss: 7.1216  avg_val_loss: 7.1128  time: 51s\n"
     ]
    },
    {
     "name": "stdout",
     "output_type": "stream",
     "text": [
      "Epoch: [18][0/13] Elapsed 0m 24s (remain 4m 53s) Loss: 7.1249(7.1249) Grad: 0.0176 LR: 0.000505  \n",
      "Epoch: [18][12/13] Elapsed 0m 39s (remain 0m 0s) Loss: 7.1169(7.1198) Grad: 0.0197 LR: 0.000505  \n",
      "EVAL: [0/2] Elapsed 0m 9s (remain 0m 9s) Loss: 7.1100(7.1100) \n",
      "EVAL: [1/2] Elapsed 0m 10s (remain 0m 0s) Loss: 7.1101(7.1101) \n"
     ]
    },
    {
     "name": "stderr",
     "output_type": "stream",
     "text": [
      "Epoch 18 - avg_train_loss: 7.1198  avg_val_loss: 7.1101  time: 50s\n"
     ]
    },
    {
     "name": "stdout",
     "output_type": "stream",
     "text": [
      "Epoch: [19][0/13] Elapsed 0m 24s (remain 4m 53s) Loss: 7.1174(7.1174) Grad: 0.0326 LR: 0.001000  \n",
      "Epoch: [19][12/13] Elapsed 0m 38s (remain 0m 0s) Loss: 7.1249(7.1185) Grad: 0.0341 LR: 0.001000  \n",
      "EVAL: [0/2] Elapsed 0m 10s (remain 0m 10s) Loss: 7.1252(7.1252) \n",
      "EVAL: [1/2] Elapsed 0m 10s (remain 0m 0s) Loss: 7.1200(7.1231) \n"
     ]
    },
    {
     "name": "stderr",
     "output_type": "stream",
     "text": [
      "Epoch 19 - avg_train_loss: 7.1185  avg_val_loss: 7.1231  time: 50s\n"
     ]
    },
    {
     "name": "stdout",
     "output_type": "stream",
     "text": [
      "Epoch: [20][0/13] Elapsed 0m 21s (remain 4m 23s) Loss: 7.1253(7.1253) Grad: 0.0260 LR: 0.000505  \n",
      "Epoch: [20][12/13] Elapsed 0m 39s (remain 0m 0s) Loss: 7.1248(7.1205) Grad: 0.0081 LR: 0.000505  \n",
      "EVAL: [0/2] Elapsed 0m 10s (remain 0m 10s) Loss: 7.1087(7.1087) \n",
      "EVAL: [1/2] Elapsed 0m 10s (remain 0m 0s) Loss: 7.1085(7.1086) \n"
     ]
    },
    {
     "name": "stderr",
     "output_type": "stream",
     "text": [
      "Epoch 20 - avg_train_loss: 7.1205  avg_val_loss: 7.1086  time: 50s\n",
      "========== fold: 4 result ==========\n",
      "========== CV ==========\n"
     ]
    },
    {
     "name": "stdout",
     "output_type": "stream",
     "text": [
      "\n"
     ]
    },
    {
     "data": {
      "text/html": [
       "Waiting for W&B process to finish... <strong style=\"color:green\">(success).</strong>"
      ],
      "text/plain": [
       "<IPython.core.display.HTML object>"
      ]
     },
     "metadata": {},
     "output_type": "display_data"
    },
    {
     "data": {
      "application/vnd.jupyter.widget-view+json": {
       "model_id": "96e4e59df85e47e395cb1f206d20efae",
       "version_major": 2,
       "version_minor": 0
      },
      "text/plain": [
       "VBox(children=(Label(value='0.001 MB of 0.001 MB uploaded (0.000 MB deduped)\\r'), FloatProgress(value=1.0, max…"
      ]
     },
     "metadata": {},
     "output_type": "display_data"
    },
    {
     "data": {
      "text/html": [
       "<style>\n",
       "    table.wandb td:nth-child(1) { padding: 0 10px; text-align: right }\n",
       "    .wandb-row { display: flex; flex-direction: row; flex-wrap: wrap; width: 100% }\n",
       "    .wandb-col { display: flex; flex-direction: column; flex-basis: 100%; flex: 1; padding: 10px; }\n",
       "    </style>\n",
       "<div class=\"wandb-row\"><div class=\"wandb-col\"><h3>Run history:</h3><br/><table class=\"wandb\"><tr><td>[fold0] avg_train_loss</td><td>█▇▅▃▂▂▁▂▁▁▁▁▁▁▁▁▁▁▁▁</td></tr><tr><td>[fold0] avg_val_loss</td><td>█▆▃▃▂▂▂▁▂█▁▁▁▃▂▁▁▂▁▁</td></tr><tr><td>[fold0] epoch</td><td>▁▁▂▂▂▃▃▄▄▄▅▅▅▆▆▇▇▇██</td></tr><tr><td>[fold0] loss</td><td>██▇▇▆▄▃▃▂▂▂▂▂▁▁▁▁▂▁▁▂▂▁▁▁▁▁▁▁▁▁▁▁▁▁▁▁▁▁▁</td></tr><tr><td>[fold0] lr</td><td>██▁▁██▁▁██▁▁██▁▁██▁▁██▁▁██▁▁██▁▁██▁▁██▁▁</td></tr><tr><td>[fold1] avg_train_loss</td><td>█▆▄▃▂▂▂▁▁▁▁▁▁▁▁▁▁▁▁▁</td></tr><tr><td>[fold1] avg_val_loss</td><td>█▅▃▃▂▅▁▁▁▁▃▁▂▂▁▁▁▁▁▁</td></tr><tr><td>[fold1] epoch</td><td>▁▁▂▂▂▃▃▄▄▄▅▅▅▆▆▇▇▇██</td></tr><tr><td>[fold1] loss</td><td>██▇▆▅▄▃▃▂▂▂▂▂▂▂▁▁▁▁▁▁▁▁▁▂▁▁▁▁▁▁▁▁▁▁▁▁▁▁▁</td></tr><tr><td>[fold1] lr</td><td>██▁▁██▁▁██▁▁██▁▁██▁▁██▁▁██▁▁██▁▁██▁▁██▁▁</td></tr><tr><td>[fold2] avg_train_loss</td><td>█▇▄▃▂▂▁▁▁▂▁▁▁▁▁▁▁▁▁▂</td></tr><tr><td>[fold2] avg_val_loss</td><td>▆▄▃▂▂▁▂▁▁▂▁█▁▁▁▁▂▁▁▂</td></tr><tr><td>[fold2] epoch</td><td>▁▁▂▂▂▃▃▄▄▄▅▅▅▆▆▇▇▇██</td></tr><tr><td>[fold2] loss</td><td>██▇▆▅▄▃▃▃▂▂▂▁▂▂▁▁▁▃▂▂▁▁▁▁▁▁▁▁▁▁▁▁▁▁▁▁▁▁▁</td></tr><tr><td>[fold2] lr</td><td>██▁▁██▁▁██▁▁██▁▁██▁▁██▁▁██▁▁██▁▁██▁▁██▁▁</td></tr><tr><td>[fold3] avg_train_loss</td><td>█▇▅▃▂▂▁▁▁▁▁▁▁▁▁▁▁▁▁▁</td></tr><tr><td>[fold3] avg_val_loss</td><td>▆▅▃▂▂▁▁▁▁▂▁▁▁█▃▂▁▁▁▁</td></tr><tr><td>[fold3] epoch</td><td>▁▁▂▂▂▃▃▄▄▄▅▅▅▆▆▇▇▇██</td></tr><tr><td>[fold3] loss</td><td>██▇▇▅▄▃▃▂▂▂▂▁▁▁▁▁▁▁▁▁▁▁▁▁▁▁▁▁▁▁▁▁▁▁▁▁▁▁▁</td></tr><tr><td>[fold3] lr</td><td>██▁▁██▁▁██▁▁██▁▁██▁▁██▁▁██▁▁██▁▁██▁▁██▁▁</td></tr><tr><td>[fold4] avg_train_loss</td><td>█▇▅▃▂▂▂▁▁▁▁▁▁▁▁▁▁▁▁▁</td></tr><tr><td>[fold4] avg_val_loss</td><td>▆▅▃▂█▄▁▅▂▁▁▁▁▁▁▁▁▁▁▁</td></tr><tr><td>[fold4] epoch</td><td>▁▁▂▂▂▃▃▄▄▄▅▅▅▆▆▇▇▇██</td></tr><tr><td>[fold4] loss</td><td>██▇▇▆▄▄▃▂▃▂▂▂▁▁▁▁▁▁▁▁▁▁▁▁▁▁▁▁▁▁▁▁▁▁▁▁▁▁▁</td></tr><tr><td>[fold4] lr</td><td>██▁▁██▁▁██▁▁██▁▁██▁▁██▁▁██▁▁██▁▁██▁▁██▁▁</td></tr></table><br/></div><div class=\"wandb-col\"><h3>Run summary:</h3><br/><table class=\"wandb\"><tr><td>[fold0] avg_train_loss</td><td>7.1302</td></tr><tr><td>[fold0] avg_val_loss</td><td>7.1077</td></tr><tr><td>[fold0] epoch</td><td>20</td></tr><tr><td>[fold0] loss</td><td>7.12498</td></tr><tr><td>[fold0] lr</td><td>0.00051</td></tr><tr><td>[fold1] avg_train_loss</td><td>7.121</td></tr><tr><td>[fold1] avg_val_loss</td><td>7.12535</td></tr><tr><td>[fold1] epoch</td><td>20</td></tr><tr><td>[fold1] loss</td><td>7.11651</td></tr><tr><td>[fold1] lr</td><td>0.00051</td></tr><tr><td>[fold2] avg_train_loss</td><td>7.19705</td></tr><tr><td>[fold2] avg_val_loss</td><td>7.16866</td></tr><tr><td>[fold2] epoch</td><td>20</td></tr><tr><td>[fold2] loss</td><td>7.11652</td></tr><tr><td>[fold2] lr</td><td>0.00051</td></tr><tr><td>[fold3] avg_train_loss</td><td>7.12018</td></tr><tr><td>[fold3] avg_val_loss</td><td>7.11223</td></tr><tr><td>[fold3] epoch</td><td>20</td></tr><tr><td>[fold3] loss</td><td>7.11619</td></tr><tr><td>[fold3] lr</td><td>0.00051</td></tr><tr><td>[fold4] avg_train_loss</td><td>7.12045</td></tr><tr><td>[fold4] avg_val_loss</td><td>7.10863</td></tr><tr><td>[fold4] epoch</td><td>20</td></tr><tr><td>[fold4] loss</td><td>7.1248</td></tr><tr><td>[fold4] lr</td><td>0.00051</td></tr></table><br/></div></div>"
      ],
      "text/plain": [
       "<IPython.core.display.HTML object>"
      ]
     },
     "metadata": {},
     "output_type": "display_data"
    },
    {
     "data": {
      "text/html": [
       "Synced <strong style=\"color:#cdcd00\">resnext50_32x4d</strong>: <a href=\"https://wandb.ai/djoe/Herbarium%202022/runs/xrazeace\" target=\"_blank\">https://wandb.ai/djoe/Herbarium%202022/runs/xrazeace</a><br/>Synced 5 W&B file(s), 0 media file(s), 0 artifact file(s) and 0 other file(s)"
      ],
      "text/plain": [
       "<IPython.core.display.HTML object>"
      ]
     },
     "metadata": {},
     "output_type": "display_data"
    },
    {
     "data": {
      "text/html": [
       "Find logs at: <code>./wandb/run-20220317_172120-xrazeace/logs</code>"
      ],
      "text/plain": [
       "<IPython.core.display.HTML object>"
      ]
     },
     "metadata": {},
     "output_type": "display_data"
    }
   ],
   "source": [
    "if __name__ == \"__main__\":\n",
    "    main()"
   ]
  }
 ],
 "metadata": {
  "kernelspec": {
   "display_name": "Python 3",
   "language": "python",
   "name": "python3"
  },
  "language_info": {
   "codemirror_mode": {
    "name": "ipython",
    "version": 3
   },
   "file_extension": ".py",
   "mimetype": "text/x-python",
   "name": "python",
   "nbconvert_exporter": "python",
   "pygments_lexer": "ipython3",
   "version": "3.7.12"
  },
  "papermill": {
   "default_parameters": {},
   "duration": 5173.593425,
   "end_time": "2022-03-17T18:45:12.452446",
   "environment_variables": {},
   "exception": null,
   "input_path": "__notebook__.ipynb",
   "output_path": "__notebook__.ipynb",
   "parameters": {},
   "start_time": "2022-03-17T17:18:58.859021",
   "version": "2.3.3"
  },
  "widgets": {
   "application/vnd.jupyter.widget-state+json": {
    "state": {
     "3c0786cbc0ec45c1889b4728fb3b5176": {
      "model_module": "@jupyter-widgets/base",
      "model_module_version": "1.2.0",
      "model_name": "LayoutModel",
      "state": {
       "_model_module": "@jupyter-widgets/base",
       "_model_module_version": "1.2.0",
       "_model_name": "LayoutModel",
       "_view_count": null,
       "_view_module": "@jupyter-widgets/base",
       "_view_module_version": "1.2.0",
       "_view_name": "LayoutView",
       "align_content": null,
       "align_items": null,
       "align_self": null,
       "border": null,
       "bottom": null,
       "display": null,
       "flex": null,
       "flex_flow": null,
       "grid_area": null,
       "grid_auto_columns": null,
       "grid_auto_flow": null,
       "grid_auto_rows": null,
       "grid_column": null,
       "grid_gap": null,
       "grid_row": null,
       "grid_template_areas": null,
       "grid_template_columns": null,
       "grid_template_rows": null,
       "height": null,
       "justify_content": null,
       "justify_items": null,
       "left": null,
       "margin": null,
       "max_height": null,
       "max_width": null,
       "min_height": null,
       "min_width": null,
       "object_fit": null,
       "object_position": null,
       "order": null,
       "overflow": null,
       "overflow_x": null,
       "overflow_y": null,
       "padding": null,
       "right": null,
       "top": null,
       "visibility": null,
       "width": null
      }
     },
     "5ba9fcebe42c4bcdbe9bf226da5cc2ba": {
      "model_module": "@jupyter-widgets/controls",
      "model_module_version": "1.5.0",
      "model_name": "FloatProgressModel",
      "state": {
       "_dom_classes": [],
       "_model_module": "@jupyter-widgets/controls",
       "_model_module_version": "1.5.0",
       "_model_name": "FloatProgressModel",
       "_view_count": null,
       "_view_module": "@jupyter-widgets/controls",
       "_view_module_version": "1.5.0",
       "_view_name": "ProgressView",
       "bar_style": "",
       "description": "",
       "description_tooltip": null,
       "layout": "IPY_MODEL_a8cd74367216433aa73ea62a14588a9d",
       "max": 1.0,
       "min": 0.0,
       "orientation": "horizontal",
       "style": "IPY_MODEL_bb3a7f02eee44ed0929ce233856c777c",
       "value": 1.0
      }
     },
     "96e4e59df85e47e395cb1f206d20efae": {
      "model_module": "@jupyter-widgets/controls",
      "model_module_version": "1.5.0",
      "model_name": "VBoxModel",
      "state": {
       "_dom_classes": [],
       "_model_module": "@jupyter-widgets/controls",
       "_model_module_version": "1.5.0",
       "_model_name": "VBoxModel",
       "_view_count": null,
       "_view_module": "@jupyter-widgets/controls",
       "_view_module_version": "1.5.0",
       "_view_name": "VBoxView",
       "box_style": "",
       "children": [
        "IPY_MODEL_d9178f533a904959b182e00e76abe093",
        "IPY_MODEL_5ba9fcebe42c4bcdbe9bf226da5cc2ba"
       ],
       "layout": "IPY_MODEL_a5c4331c74ab41aa99fd0a2d9cbb0e05"
      }
     },
     "a5c4331c74ab41aa99fd0a2d9cbb0e05": {
      "model_module": "@jupyter-widgets/base",
      "model_module_version": "1.2.0",
      "model_name": "LayoutModel",
      "state": {
       "_model_module": "@jupyter-widgets/base",
       "_model_module_version": "1.2.0",
       "_model_name": "LayoutModel",
       "_view_count": null,
       "_view_module": "@jupyter-widgets/base",
       "_view_module_version": "1.2.0",
       "_view_name": "LayoutView",
       "align_content": null,
       "align_items": null,
       "align_self": null,
       "border": null,
       "bottom": null,
       "display": null,
       "flex": null,
       "flex_flow": null,
       "grid_area": null,
       "grid_auto_columns": null,
       "grid_auto_flow": null,
       "grid_auto_rows": null,
       "grid_column": null,
       "grid_gap": null,
       "grid_row": null,
       "grid_template_areas": null,
       "grid_template_columns": null,
       "grid_template_rows": null,
       "height": null,
       "justify_content": null,
       "justify_items": null,
       "left": null,
       "margin": null,
       "max_height": null,
       "max_width": null,
       "min_height": null,
       "min_width": null,
       "object_fit": null,
       "object_position": null,
       "order": null,
       "overflow": null,
       "overflow_x": null,
       "overflow_y": null,
       "padding": null,
       "right": null,
       "top": null,
       "visibility": null,
       "width": null
      }
     },
     "a8cd74367216433aa73ea62a14588a9d": {
      "model_module": "@jupyter-widgets/base",
      "model_module_version": "1.2.0",
      "model_name": "LayoutModel",
      "state": {
       "_model_module": "@jupyter-widgets/base",
       "_model_module_version": "1.2.0",
       "_model_name": "LayoutModel",
       "_view_count": null,
       "_view_module": "@jupyter-widgets/base",
       "_view_module_version": "1.2.0",
       "_view_name": "LayoutView",
       "align_content": null,
       "align_items": null,
       "align_self": null,
       "border": null,
       "bottom": null,
       "display": null,
       "flex": null,
       "flex_flow": null,
       "grid_area": null,
       "grid_auto_columns": null,
       "grid_auto_flow": null,
       "grid_auto_rows": null,
       "grid_column": null,
       "grid_gap": null,
       "grid_row": null,
       "grid_template_areas": null,
       "grid_template_columns": null,
       "grid_template_rows": null,
       "height": null,
       "justify_content": null,
       "justify_items": null,
       "left": null,
       "margin": null,
       "max_height": null,
       "max_width": null,
       "min_height": null,
       "min_width": null,
       "object_fit": null,
       "object_position": null,
       "order": null,
       "overflow": null,
       "overflow_x": null,
       "overflow_y": null,
       "padding": null,
       "right": null,
       "top": null,
       "visibility": null,
       "width": null
      }
     },
     "bb3a7f02eee44ed0929ce233856c777c": {
      "model_module": "@jupyter-widgets/controls",
      "model_module_version": "1.5.0",
      "model_name": "ProgressStyleModel",
      "state": {
       "_model_module": "@jupyter-widgets/controls",
       "_model_module_version": "1.5.0",
       "_model_name": "ProgressStyleModel",
       "_view_count": null,
       "_view_module": "@jupyter-widgets/base",
       "_view_module_version": "1.2.0",
       "_view_name": "StyleView",
       "bar_color": null,
       "description_width": ""
      }
     },
     "d9178f533a904959b182e00e76abe093": {
      "model_module": "@jupyter-widgets/controls",
      "model_module_version": "1.5.0",
      "model_name": "LabelModel",
      "state": {
       "_dom_classes": [],
       "_model_module": "@jupyter-widgets/controls",
       "_model_module_version": "1.5.0",
       "_model_name": "LabelModel",
       "_view_count": null,
       "_view_module": "@jupyter-widgets/controls",
       "_view_module_version": "1.5.0",
       "_view_name": "LabelView",
       "description": "",
       "description_tooltip": null,
       "layout": "IPY_MODEL_3c0786cbc0ec45c1889b4728fb3b5176",
       "placeholder": "​",
       "style": "IPY_MODEL_e6c9396b927d4d1ca990710f116c9b08",
       "value": "0.056 MB of 0.056 MB uploaded (0.000 MB deduped)\r"
      }
     },
     "e6c9396b927d4d1ca990710f116c9b08": {
      "model_module": "@jupyter-widgets/controls",
      "model_module_version": "1.5.0",
      "model_name": "DescriptionStyleModel",
      "state": {
       "_model_module": "@jupyter-widgets/controls",
       "_model_module_version": "1.5.0",
       "_model_name": "DescriptionStyleModel",
       "_view_count": null,
       "_view_module": "@jupyter-widgets/base",
       "_view_module_version": "1.2.0",
       "_view_name": "StyleView",
       "description_width": ""
      }
     }
    },
    "version_major": 2,
    "version_minor": 0
   }
  }
 },
 "nbformat": 4,
 "nbformat_minor": 5
}
